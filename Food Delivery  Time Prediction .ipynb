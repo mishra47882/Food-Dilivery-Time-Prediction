{
 "cells": [
  {
   "cell_type": "markdown",
   "id": "57faba68-0722-4a04-bb0a-8be3c4ac3309",
   "metadata": {},
   "source": [
    "'''\n",
    " Project Tittle : Food Dilivery Time Prediction :-\n",
    "\n",
    "Objective:The primary objective of the \"Food Delivery Time\" dataset is to develop a machine learning model that accurately predicts the time taken for food deliveries. By analyzing various factors such as delivery personnel characteristics, environmental conditions, and real-time variables like weather and traffic, the model aims to provide precise delivery time estimates. This can enhance customer satisfaction and optimize delivery\n",
    "operations.\n",
    "'''"
   ]
  },
  {
   "cell_type": "code",
   "execution_count": 102,
   "id": "14aad226-743c-4069-b117-1f7a703a1338",
   "metadata": {},
   "outputs": [],
   "source": [
    "#Problem Statement : \n",
    "'''\n",
    "The task is to build a predictive model that estimates the total delivery time for food orders. The model should consider factors including:\n",
    "Order details: type of food, restaurant, preparation time.\n",
    "Market conditions: delivery demand, driver availability.\n",
    "Traffic status: congestion, road closures.\n",
    "By incorporating these variables, the model seeks to provide reliable delivery time predictions, thereby improving operational\n",
    "efficiency and customer experience. \n",
    "\n",
    "'''\n",
    "# Benefits\n",
    "'''\n",
    "Benefits:predictive modeling enhances the food delivery experience for customers through accurate deliverytimes and personalized\n",
    "options, while enabling companies to operate more efficiently and align their offerings with customer needs.\n",
    "'''\n",
    "#Import all basic library\n",
    "import pandas as pd\n",
    "import numpy as np \n",
    "import matplotlib.pyplot as plt \n",
    "import  seaborn as sns \n",
    "from sklearn.preprocessing import LabelEncoder\n",
    "from sklearn.model_selection import train_test_split\n",
    "from sklearn.metrics import r2_score \n",
    "from sklearn.preprocessing import StandardScaler\n",
    "from sklearn.linear_model import LinearRegression\n",
    "from sklearn.metrics import mean_squared_error\n",
    "from sklearn.preprocessing import PolynomialFeatures\n",
    "\n",
    "import warnings \n",
    "warnings.filterwarnings(\"ignore\")"
   ]
  },
  {
   "cell_type": "markdown",
   "id": "d11dd075-4580-4bf2-a913-d125e4721f2f",
   "metadata": {},
   "source": [
    "##To Load DataSet"
   ]
  },
  {
   "cell_type": "code",
   "execution_count": 103,
   "id": "368baf89-08b9-40d2-b384-cf4380cc1db7",
   "metadata": {},
   "outputs": [
    {
     "data": {
      "text/html": [
       "<div>\n",
       "<style scoped>\n",
       "    .dataframe tbody tr th:only-of-type {\n",
       "        vertical-align: middle;\n",
       "    }\n",
       "\n",
       "    .dataframe tbody tr th {\n",
       "        vertical-align: top;\n",
       "    }\n",
       "\n",
       "    .dataframe thead th {\n",
       "        text-align: right;\n",
       "    }\n",
       "</style>\n",
       "<table border=\"1\" class=\"dataframe\">\n",
       "  <thead>\n",
       "    <tr style=\"text-align: right;\">\n",
       "      <th></th>\n",
       "      <th>ID</th>\n",
       "      <th>Delivery_person_ID</th>\n",
       "      <th>Delivery_person_Age</th>\n",
       "      <th>Delivery_person_Ratings</th>\n",
       "      <th>Restaurant_latitude</th>\n",
       "      <th>Restaurant_longitude</th>\n",
       "      <th>Delivery_location_latitude</th>\n",
       "      <th>Delivery_location_longitude</th>\n",
       "      <th>Type_of_order</th>\n",
       "      <th>Type_of_vehicle</th>\n",
       "      <th>temperature</th>\n",
       "      <th>humidity</th>\n",
       "      <th>precipitation</th>\n",
       "      <th>weather_description</th>\n",
       "      <th>Unnamed: 14</th>\n",
       "      <th>Traffic_Level</th>\n",
       "      <th>Distance (km)</th>\n",
       "      <th>TARGET</th>\n",
       "    </tr>\n",
       "  </thead>\n",
       "  <tbody>\n",
       "    <tr>\n",
       "      <th>0</th>\n",
       "      <td>4607</td>\n",
       "      <td>INDORES13DEL02</td>\n",
       "      <td>37.0</td>\n",
       "      <td>4.9</td>\n",
       "      <td>22.745049</td>\n",
       "      <td>75.892471</td>\n",
       "      <td>22.765049</td>\n",
       "      <td>75.912471</td>\n",
       "      <td>Snack</td>\n",
       "      <td>motorcycle</td>\n",
       "      <td>17.11</td>\n",
       "      <td>77.0</td>\n",
       "      <td>0.0</td>\n",
       "      <td>haze</td>\n",
       "      <td>NaN</td>\n",
       "      <td>Low</td>\n",
       "      <td>NaN</td>\n",
       "      <td>21.66666667</td>\n",
       "    </tr>\n",
       "    <tr>\n",
       "      <th>1</th>\n",
       "      <td>B379</td>\n",
       "      <td>BANGRES18DEL02</td>\n",
       "      <td>34.0</td>\n",
       "      <td>4.5</td>\n",
       "      <td>12.913041</td>\n",
       "      <td>77.683237</td>\n",
       "      <td>13.043041</td>\n",
       "      <td>77.813237</td>\n",
       "      <td>Snack</td>\n",
       "      <td>scooter</td>\n",
       "      <td>19.50</td>\n",
       "      <td>93.0</td>\n",
       "      <td>0.0</td>\n",
       "      <td>mist</td>\n",
       "      <td>NaN</td>\n",
       "      <td>Very High</td>\n",
       "      <td>37.17</td>\n",
       "      <td>85.26666667</td>\n",
       "    </tr>\n",
       "    <tr>\n",
       "      <th>2</th>\n",
       "      <td>5D6D</td>\n",
       "      <td>BANGRES19DEL01</td>\n",
       "      <td>23.0</td>\n",
       "      <td>4.4</td>\n",
       "      <td>12.914264</td>\n",
       "      <td>77.678400</td>\n",
       "      <td>12.924264</td>\n",
       "      <td>77.688400</td>\n",
       "      <td>Drinks</td>\n",
       "      <td>motorcycle</td>\n",
       "      <td>20.45</td>\n",
       "      <td>91.0</td>\n",
       "      <td>0.0</td>\n",
       "      <td>mist</td>\n",
       "      <td>NaN</td>\n",
       "      <td>Low</td>\n",
       "      <td>3.34</td>\n",
       "      <td>28.58333333</td>\n",
       "    </tr>\n",
       "    <tr>\n",
       "      <th>3</th>\n",
       "      <td>7A6A</td>\n",
       "      <td>COIMBRES13DEL02</td>\n",
       "      <td>38.0</td>\n",
       "      <td>4.7</td>\n",
       "      <td>11.003669</td>\n",
       "      <td>76.976494</td>\n",
       "      <td>11.053669</td>\n",
       "      <td>77.026494</td>\n",
       "      <td>Buffet</td>\n",
       "      <td>motorcycle</td>\n",
       "      <td>23.86</td>\n",
       "      <td>78.0</td>\n",
       "      <td>0.0</td>\n",
       "      <td>mist</td>\n",
       "      <td>NaN</td>\n",
       "      <td>Moderate</td>\n",
       "      <td>10.05</td>\n",
       "      <td>35.18333333</td>\n",
       "    </tr>\n",
       "    <tr>\n",
       "      <th>4</th>\n",
       "      <td>70A2</td>\n",
       "      <td>CHENRES12DEL01</td>\n",
       "      <td>32.0</td>\n",
       "      <td>4.6</td>\n",
       "      <td>12.972793</td>\n",
       "      <td>80.249982</td>\n",
       "      <td>13.012793</td>\n",
       "      <td>80.289982</td>\n",
       "      <td>Snack</td>\n",
       "      <td>scooter</td>\n",
       "      <td>26.55</td>\n",
       "      <td>87.0</td>\n",
       "      <td>0.0</td>\n",
       "      <td>mist</td>\n",
       "      <td>NaN</td>\n",
       "      <td>High</td>\n",
       "      <td>9.89</td>\n",
       "      <td>43.45</td>\n",
       "    </tr>\n",
       "  </tbody>\n",
       "</table>\n",
       "</div>"
      ],
      "text/plain": [
       "     ID Delivery_person_ID  Delivery_person_Age  Delivery_person_Ratings  \\\n",
       "0  4607     INDORES13DEL02                 37.0                      4.9   \n",
       "1  B379     BANGRES18DEL02                 34.0                      4.5   \n",
       "2  5D6D     BANGRES19DEL01                 23.0                      4.4   \n",
       "3  7A6A    COIMBRES13DEL02                 38.0                      4.7   \n",
       "4  70A2     CHENRES12DEL01                 32.0                      4.6   \n",
       "\n",
       "   Restaurant_latitude  Restaurant_longitude  Delivery_location_latitude  \\\n",
       "0            22.745049             75.892471                   22.765049   \n",
       "1            12.913041             77.683237                   13.043041   \n",
       "2            12.914264             77.678400                   12.924264   \n",
       "3            11.003669             76.976494                   11.053669   \n",
       "4            12.972793             80.249982                   13.012793   \n",
       "\n",
       "   Delivery_location_longitude Type_of_order Type_of_vehicle  temperature  \\\n",
       "0                    75.912471        Snack      motorcycle         17.11   \n",
       "1                    77.813237        Snack         scooter         19.50   \n",
       "2                    77.688400       Drinks      motorcycle         20.45   \n",
       "3                    77.026494       Buffet      motorcycle         23.86   \n",
       "4                    80.289982        Snack         scooter         26.55   \n",
       "\n",
       "   humidity  precipitation weather_description  Unnamed: 14 Traffic_Level  \\\n",
       "0      77.0            0.0                haze          NaN           Low   \n",
       "1      93.0            0.0                mist          NaN     Very High   \n",
       "2      91.0            0.0                mist          NaN           Low   \n",
       "3      78.0            0.0                mist          NaN      Moderate   \n",
       "4      87.0            0.0                mist          NaN          High   \n",
       "\n",
       "   Distance (km)       TARGET  \n",
       "0            NaN  21.66666667  \n",
       "1          37.17  85.26666667  \n",
       "2           3.34  28.58333333  \n",
       "3          10.05  35.18333333  \n",
       "4           9.89        43.45  "
      ]
     },
     "execution_count": 103,
     "metadata": {},
     "output_type": "execute_result"
    }
   ],
   "source": [
    "\n",
    "df= pd.read_csv(\"C:/Users/vishal/Downloads/Food_Time_Data_Set.csv\")\n",
    "\n",
    "#To Show first 5 records\n",
    "df.head()"
   ]
  },
  {
   "cell_type": "code",
   "execution_count": 104,
   "id": "c26ee33b-f945-4c41-b836-f7563fd9e641",
   "metadata": {},
   "outputs": [
    {
     "name": "stdout",
     "output_type": "stream",
     "text": [
      "<class 'pandas.core.frame.DataFrame'>\n",
      "RangeIndex: 10001 entries, 0 to 10000\n",
      "Data columns (total 18 columns):\n",
      " #   Column                       Non-Null Count  Dtype  \n",
      "---  ------                       --------------  -----  \n",
      " 0   ID                           10000 non-null  object \n",
      " 1   Delivery_person_ID           10000 non-null  object \n",
      " 2   Delivery_person_Age          10000 non-null  float64\n",
      " 3   Delivery_person_Ratings      10000 non-null  float64\n",
      " 4   Restaurant_latitude          10000 non-null  float64\n",
      " 5   Restaurant_longitude         10000 non-null  float64\n",
      " 6   Delivery_location_latitude   10000 non-null  float64\n",
      " 7   Delivery_location_longitude  10000 non-null  float64\n",
      " 8   Type_of_order                10000 non-null  object \n",
      " 9   Type_of_vehicle              10000 non-null  object \n",
      " 10  temperature                  9995 non-null   float64\n",
      " 11  humidity                     9995 non-null   float64\n",
      " 12  precipitation                9995 non-null   float64\n",
      " 13  weather_description          9995 non-null   object \n",
      " 14  Unnamed: 14                  0 non-null      float64\n",
      " 15  Traffic_Level                9085 non-null   object \n",
      " 16  Distance (km)                9080 non-null   float64\n",
      " 17  TARGET                       9459 non-null   object \n",
      "dtypes: float64(11), object(7)\n",
      "memory usage: 1.4+ MB\n"
     ]
    }
   ],
   "source": [
    "#To show all Details of given dataset\n",
    "df.info()"
   ]
  },
  {
   "cell_type": "code",
   "execution_count": 105,
   "id": "02866761-e000-46e5-827e-299d6d5a62ed",
   "metadata": {},
   "outputs": [
    {
     "data": {
      "text/plain": [
       "(10001, 18)"
      ]
     },
     "execution_count": 105,
     "metadata": {},
     "output_type": "execute_result"
    }
   ],
   "source": [
    "# shape of Dateset ,How Many rows and columns\n",
    "df.shape"
   ]
  },
  {
   "cell_type": "code",
   "execution_count": 106,
   "id": "64cd5063-a3d5-4a70-93a8-fa30455e7d9e",
   "metadata": {},
   "outputs": [
    {
     "data": {
      "text/plain": [
       "Index(['ID', 'Delivery_person_ID', 'Delivery_person_Age',\n",
       "       'Delivery_person_Ratings', 'Restaurant_latitude',\n",
       "       'Restaurant_longitude', 'Delivery_location_latitude',\n",
       "       'Delivery_location_longitude', 'Type_of_order', 'Type_of_vehicle',\n",
       "       'temperature', 'humidity', 'precipitation', 'weather_description',\n",
       "       'Unnamed: 14', 'Traffic_Level', 'Distance (km)', 'TARGET'],\n",
       "      dtype='object')"
      ]
     },
     "execution_count": 106,
     "metadata": {},
     "output_type": "execute_result"
    }
   ],
   "source": [
    "# Show the all columns name\n",
    "df.columns"
   ]
  },
  {
   "cell_type": "code",
   "execution_count": 107,
   "id": "e9f5c8c5-bf81-4ff5-a572-987a99da25c4",
   "metadata": {},
   "outputs": [
    {
     "data": {
      "text/plain": [
       "100.0"
      ]
     },
     "execution_count": 107,
     "metadata": {},
     "output_type": "execute_result"
    }
   ],
   "source": [
    "# the 100%  columns is nall values we  will drop the columns\n",
    "df[\"Unnamed: 14\"].isnull().sum()/df.shape[0]*100"
   ]
  },
  {
   "cell_type": "code",
   "execution_count": 108,
   "id": "066f8ab6-4ccf-459d-9c3e-240db559d272",
   "metadata": {},
   "outputs": [
    {
     "data": {
      "text/html": [
       "<div>\n",
       "<style scoped>\n",
       "    .dataframe tbody tr th:only-of-type {\n",
       "        vertical-align: middle;\n",
       "    }\n",
       "\n",
       "    .dataframe tbody tr th {\n",
       "        vertical-align: top;\n",
       "    }\n",
       "\n",
       "    .dataframe thead th {\n",
       "        text-align: right;\n",
       "    }\n",
       "</style>\n",
       "<table border=\"1\" class=\"dataframe\">\n",
       "  <thead>\n",
       "    <tr style=\"text-align: right;\">\n",
       "      <th></th>\n",
       "      <th>ID</th>\n",
       "      <th>Delivery_person_ID</th>\n",
       "      <th>Delivery_person_Age</th>\n",
       "      <th>Delivery_person_Ratings</th>\n",
       "      <th>Restaurant_latitude</th>\n",
       "      <th>Restaurant_longitude</th>\n",
       "      <th>Delivery_location_latitude</th>\n",
       "      <th>Delivery_location_longitude</th>\n",
       "      <th>Type_of_order</th>\n",
       "      <th>Type_of_vehicle</th>\n",
       "      <th>temperature</th>\n",
       "      <th>humidity</th>\n",
       "      <th>precipitation</th>\n",
       "      <th>weather_description</th>\n",
       "      <th>Traffic_Level</th>\n",
       "      <th>Distance (km)</th>\n",
       "      <th>TARGET</th>\n",
       "    </tr>\n",
       "  </thead>\n",
       "  <tbody>\n",
       "    <tr>\n",
       "      <th>0</th>\n",
       "      <td>4607</td>\n",
       "      <td>INDORES13DEL02</td>\n",
       "      <td>37.0</td>\n",
       "      <td>4.9</td>\n",
       "      <td>22.745049</td>\n",
       "      <td>75.892471</td>\n",
       "      <td>22.765049</td>\n",
       "      <td>75.912471</td>\n",
       "      <td>Snack</td>\n",
       "      <td>motorcycle</td>\n",
       "      <td>17.11</td>\n",
       "      <td>77.0</td>\n",
       "      <td>0.0</td>\n",
       "      <td>haze</td>\n",
       "      <td>Low</td>\n",
       "      <td>NaN</td>\n",
       "      <td>21.66666667</td>\n",
       "    </tr>\n",
       "    <tr>\n",
       "      <th>1</th>\n",
       "      <td>B379</td>\n",
       "      <td>BANGRES18DEL02</td>\n",
       "      <td>34.0</td>\n",
       "      <td>4.5</td>\n",
       "      <td>12.913041</td>\n",
       "      <td>77.683237</td>\n",
       "      <td>13.043041</td>\n",
       "      <td>77.813237</td>\n",
       "      <td>Snack</td>\n",
       "      <td>scooter</td>\n",
       "      <td>19.50</td>\n",
       "      <td>93.0</td>\n",
       "      <td>0.0</td>\n",
       "      <td>mist</td>\n",
       "      <td>Very High</td>\n",
       "      <td>37.17</td>\n",
       "      <td>85.26666667</td>\n",
       "    </tr>\n",
       "    <tr>\n",
       "      <th>2</th>\n",
       "      <td>5D6D</td>\n",
       "      <td>BANGRES19DEL01</td>\n",
       "      <td>23.0</td>\n",
       "      <td>4.4</td>\n",
       "      <td>12.914264</td>\n",
       "      <td>77.678400</td>\n",
       "      <td>12.924264</td>\n",
       "      <td>77.688400</td>\n",
       "      <td>Drinks</td>\n",
       "      <td>motorcycle</td>\n",
       "      <td>20.45</td>\n",
       "      <td>91.0</td>\n",
       "      <td>0.0</td>\n",
       "      <td>mist</td>\n",
       "      <td>Low</td>\n",
       "      <td>3.34</td>\n",
       "      <td>28.58333333</td>\n",
       "    </tr>\n",
       "    <tr>\n",
       "      <th>3</th>\n",
       "      <td>7A6A</td>\n",
       "      <td>COIMBRES13DEL02</td>\n",
       "      <td>38.0</td>\n",
       "      <td>4.7</td>\n",
       "      <td>11.003669</td>\n",
       "      <td>76.976494</td>\n",
       "      <td>11.053669</td>\n",
       "      <td>77.026494</td>\n",
       "      <td>Buffet</td>\n",
       "      <td>motorcycle</td>\n",
       "      <td>23.86</td>\n",
       "      <td>78.0</td>\n",
       "      <td>0.0</td>\n",
       "      <td>mist</td>\n",
       "      <td>Moderate</td>\n",
       "      <td>10.05</td>\n",
       "      <td>35.18333333</td>\n",
       "    </tr>\n",
       "    <tr>\n",
       "      <th>4</th>\n",
       "      <td>70A2</td>\n",
       "      <td>CHENRES12DEL01</td>\n",
       "      <td>32.0</td>\n",
       "      <td>4.6</td>\n",
       "      <td>12.972793</td>\n",
       "      <td>80.249982</td>\n",
       "      <td>13.012793</td>\n",
       "      <td>80.289982</td>\n",
       "      <td>Snack</td>\n",
       "      <td>scooter</td>\n",
       "      <td>26.55</td>\n",
       "      <td>87.0</td>\n",
       "      <td>0.0</td>\n",
       "      <td>mist</td>\n",
       "      <td>High</td>\n",
       "      <td>9.89</td>\n",
       "      <td>43.45</td>\n",
       "    </tr>\n",
       "  </tbody>\n",
       "</table>\n",
       "</div>"
      ],
      "text/plain": [
       "     ID Delivery_person_ID  Delivery_person_Age  Delivery_person_Ratings  \\\n",
       "0  4607     INDORES13DEL02                 37.0                      4.9   \n",
       "1  B379     BANGRES18DEL02                 34.0                      4.5   \n",
       "2  5D6D     BANGRES19DEL01                 23.0                      4.4   \n",
       "3  7A6A    COIMBRES13DEL02                 38.0                      4.7   \n",
       "4  70A2     CHENRES12DEL01                 32.0                      4.6   \n",
       "\n",
       "   Restaurant_latitude  Restaurant_longitude  Delivery_location_latitude  \\\n",
       "0            22.745049             75.892471                   22.765049   \n",
       "1            12.913041             77.683237                   13.043041   \n",
       "2            12.914264             77.678400                   12.924264   \n",
       "3            11.003669             76.976494                   11.053669   \n",
       "4            12.972793             80.249982                   13.012793   \n",
       "\n",
       "   Delivery_location_longitude Type_of_order Type_of_vehicle  temperature  \\\n",
       "0                    75.912471        Snack      motorcycle         17.11   \n",
       "1                    77.813237        Snack         scooter         19.50   \n",
       "2                    77.688400       Drinks      motorcycle         20.45   \n",
       "3                    77.026494       Buffet      motorcycle         23.86   \n",
       "4                    80.289982        Snack         scooter         26.55   \n",
       "\n",
       "   humidity  precipitation weather_description Traffic_Level  Distance (km)  \\\n",
       "0      77.0            0.0                haze           Low            NaN   \n",
       "1      93.0            0.0                mist     Very High          37.17   \n",
       "2      91.0            0.0                mist           Low           3.34   \n",
       "3      78.0            0.0                mist      Moderate          10.05   \n",
       "4      87.0            0.0                mist          High           9.89   \n",
       "\n",
       "        TARGET  \n",
       "0  21.66666667  \n",
       "1  85.26666667  \n",
       "2  28.58333333  \n",
       "3  35.18333333  \n",
       "4        43.45  "
      ]
     },
     "execution_count": 108,
     "metadata": {},
     "output_type": "execute_result"
    }
   ],
   "source": [
    "# droping the Unnamed :14 columns because in the this columns 100% entry in null \n",
    "df.drop([\"Unnamed: 14\"],axis=1,inplace=True)\n",
    "df.head()"
   ]
  },
  {
   "cell_type": "code",
   "execution_count": 109,
   "id": "79c14515-1fef-43f1-bd48-a36d99223014",
   "metadata": {},
   "outputs": [
    {
     "data": {
      "text/plain": [
       "<Axes: >"
      ]
     },
     "execution_count": 109,
     "metadata": {},
     "output_type": "execute_result"
    },
    {
     "data": {
      "image/png": "[encoded data removed]",
      "text/plain": [
       "<Figure size 640x480 with 2 Axes>"
      ]
     },
     "metadata": {},
     "output_type": "display_data"
    }
   ],
   "source": [
    "# checking the null values using the heatmap() \n",
    "sns.heatmap(data=df.isnull())"
   ]
  },
  {
   "cell_type": "code",
   "execution_count": 110,
   "id": "25aaf368-5af1-4422-ab13-9008aa644f93",
   "metadata": {},
   "outputs": [
    {
     "data": {
      "text/plain": [
       "ID                              object\n",
       "Delivery_person_ID              object\n",
       "Delivery_person_Age            float64\n",
       "Delivery_person_Ratings        float64\n",
       "Restaurant_latitude            float64\n",
       "Restaurant_longitude           float64\n",
       "Delivery_location_latitude     float64\n",
       "Delivery_location_longitude    float64\n",
       "Type_of_order                   object\n",
       "Type_of_vehicle                 object\n",
       "temperature                    float64\n",
       "humidity                       float64\n",
       "precipitation                  float64\n",
       "weather_description             object\n",
       "Traffic_Level                   object\n",
       "Distance (km)                  float64\n",
       "TARGET                          object\n",
       "dtype: object"
      ]
     },
     "execution_count": 110,
     "metadata": {},
     "output_type": "execute_result"
    }
   ],
   "source": [
    "#To show the data types of each columns\n",
    "df.dtypes"
   ]
  },
  {
   "cell_type": "code",
   "execution_count": 111,
   "id": "c88d2976-decb-4ff3-8cd1-346919015daf",
   "metadata": {},
   "outputs": [],
   "source": [
    "#Replace Null values : -\n",
    "#using the for loop and replacing the numerical columns  values in using median  and  catgorical columns by mode\n",
    "numerical_cols = df.select_dtypes(include=['float64']).columns\n",
    "for col in numerical_cols:\n",
    "    if df[col].isnull().sum() > 0:\n",
    "        df[col].fillna(df[col].median(), inplace=True)\n",
    "categorical_cols = df.select_dtypes(include=['object']).columns\n",
    "for col in categorical_cols:\n",
    "    if df[col].isnull().sum() > 0:\n",
    "        df[col].fillna(df[col].mode()[0], inplace=True)\n"
   ]
  },
  {
   "cell_type": "code",
   "execution_count": 112,
   "id": "4a0deee9-bc9e-4b0b-ab98-0d35eebbbf33",
   "metadata": {},
   "outputs": [
    {
     "data": {
      "text/plain": [
       "ID                             0\n",
       "Delivery_person_ID             0\n",
       "Delivery_person_Age            0\n",
       "Delivery_person_Ratings        0\n",
       "Restaurant_latitude            0\n",
       "Restaurant_longitude           0\n",
       "Delivery_location_latitude     0\n",
       "Delivery_location_longitude    0\n",
       "Type_of_order                  0\n",
       "Type_of_vehicle                0\n",
       "temperature                    0\n",
       "humidity                       0\n",
       "precipitation                  0\n",
       "weather_description            0\n",
       "Traffic_Level                  0\n",
       "Distance (km)                  0\n",
       "TARGET                         0\n",
       "dtype: int64"
      ]
     },
     "execution_count": 112,
     "metadata": {},
     "output_type": "execute_result"
    }
   ],
   "source": [
    "#check null vaalues \n",
    "df.isnull().sum()"
   ]
  },
  {
   "cell_type": "code",
   "execution_count": 113,
   "id": "30c3749b-e7f3-4d35-ba47-e24dbadac615",
   "metadata": {},
   "outputs": [],
   "source": [
    "#replace #VALUE! with mm\n",
    "mm=43.33\n",
    "df[\"TARGET\"].replace('#VALUE!',mm,inplace=True)\n"
   ]
  },
  {
   "cell_type": "code",
   "execution_count": 114,
   "id": "df58cc40-d6e9-490a-aae2-2c20c8af69d2",
   "metadata": {},
   "outputs": [
    {
     "data": {
      "text/plain": [
       "ID                              object\n",
       "Delivery_person_ID              object\n",
       "Delivery_person_Age            float64\n",
       "Delivery_person_Ratings        float64\n",
       "Restaurant_latitude            float64\n",
       "Restaurant_longitude           float64\n",
       "Delivery_location_latitude     float64\n",
       "Delivery_location_longitude    float64\n",
       "Type_of_order                   object\n",
       "Type_of_vehicle                 object\n",
       "temperature                    float64\n",
       "humidity                       float64\n",
       "precipitation                  float64\n",
       "weather_description             object\n",
       "Traffic_Level                   object\n",
       "Distance (km)                  float64\n",
       "TARGET                         float64\n",
       "dtype: object"
      ]
     },
     "execution_count": 114,
     "metadata": {},
     "output_type": "execute_result"
    }
   ],
   "source": [
    "#change the datatype of TARGET column from object to float\n",
    "df[\"TARGET\"]=df[\"TARGET\"].astype(float)\n",
    "df.dtypes\n"
   ]
  },
  {
   "cell_type": "code",
   "execution_count": 115,
   "id": "82e558a6-77c9-4d84-a89e-a6010e1c3fee",
   "metadata": {},
   "outputs": [
    {
     "data": {
      "text/plain": [
       "ID                              object\n",
       "Delivery_person_ID              object\n",
       "Delivery_person_Age            float64\n",
       "Delivery_person_Ratings        float64\n",
       "Restaurant_latitude            float64\n",
       "Restaurant_longitude           float64\n",
       "Delivery_location_latitude     float64\n",
       "Delivery_location_longitude    float64\n",
       "Type_of_order                   object\n",
       "Type_of_vehicle                 object\n",
       "temperature                    float64\n",
       "humidity                       float64\n",
       "precipitation                  float64\n",
       "weather_description             object\n",
       "Traffic_Level                   object\n",
       "Distance (km)                  float64\n",
       "TARGET                         float64\n",
       "dtype: object"
      ]
     },
     "execution_count": 115,
     "metadata": {},
     "output_type": "execute_result"
    }
   ],
   "source": [
    "#To check datatypes of each column in given dataset\n",
    "df.dtypes"
   ]
  },
  {
   "cell_type": "code",
   "execution_count": 116,
   "id": "e6e13267-06f9-4ee4-9eb5-90818f17921e",
   "metadata": {},
   "outputs": [
    {
     "data": {
      "image/png": "[encoded data removed]",
      "text/plain": [
       "<Figure size 1200x1000 with 2 Axes>"
      ]
     },
     "metadata": {},
     "output_type": "display_data"
    }
   ],
   "source": [
    "# checking the correlation between the columns\n",
    "num_df=df.select_dtypes(include=[np.number])\n",
    "plt.figure(figsize=(12,10))\n",
    "plt.title(\"Correlation between the columns\")\n",
    "sns.heatmap(num_df.corr() ,annot=True)\n",
    "plt.show()"
   ]
  },
  {
   "cell_type": "code",
   "execution_count": 117,
   "id": "034d9208-7ef2-4ab4-8daf-e7bca7bd7762",
   "metadata": {},
   "outputs": [
    {
     "data": {
      "text/html": [
       "<div>\n",
       "<style scoped>\n",
       "    .dataframe tbody tr th:only-of-type {\n",
       "        vertical-align: middle;\n",
       "    }\n",
       "\n",
       "    .dataframe tbody tr th {\n",
       "        vertical-align: top;\n",
       "    }\n",
       "\n",
       "    .dataframe thead th {\n",
       "        text-align: right;\n",
       "    }\n",
       "</style>\n",
       "<table border=\"1\" class=\"dataframe\">\n",
       "  <thead>\n",
       "    <tr style=\"text-align: right;\">\n",
       "      <th></th>\n",
       "      <th>Delivery_person_Age</th>\n",
       "      <th>Delivery_person_Ratings</th>\n",
       "      <th>Restaurant_latitude</th>\n",
       "      <th>Restaurant_longitude</th>\n",
       "      <th>Delivery_location_latitude</th>\n",
       "      <th>Delivery_location_longitude</th>\n",
       "      <th>temperature</th>\n",
       "      <th>humidity</th>\n",
       "      <th>precipitation</th>\n",
       "      <th>Distance (km)</th>\n",
       "      <th>TARGET</th>\n",
       "    </tr>\n",
       "  </thead>\n",
       "  <tbody>\n",
       "    <tr>\n",
       "      <th>Delivery_person_Age</th>\n",
       "      <td>1.000000</td>\n",
       "      <td>-0.080000</td>\n",
       "      <td>0.003197</td>\n",
       "      <td>-0.010030</td>\n",
       "      <td>0.013250</td>\n",
       "      <td>0.002665</td>\n",
       "      <td>0.000601</td>\n",
       "      <td>0.000057</td>\n",
       "      <td>0.002383</td>\n",
       "      <td>0.004037</td>\n",
       "      <td>0.006035</td>\n",
       "    </tr>\n",
       "    <tr>\n",
       "      <th>Delivery_person_Ratings</th>\n",
       "      <td>-0.080000</td>\n",
       "      <td>1.000000</td>\n",
       "      <td>-0.029878</td>\n",
       "      <td>-0.037772</td>\n",
       "      <td>-0.023595</td>\n",
       "      <td>-0.025019</td>\n",
       "      <td>0.000769</td>\n",
       "      <td>0.022168</td>\n",
       "      <td>0.030816</td>\n",
       "      <td>-0.112288</td>\n",
       "      <td>-0.091076</td>\n",
       "    </tr>\n",
       "    <tr>\n",
       "      <th>Restaurant_latitude</th>\n",
       "      <td>0.003197</td>\n",
       "      <td>-0.029878</td>\n",
       "      <td>1.000000</td>\n",
       "      <td>0.660487</td>\n",
       "      <td>0.842278</td>\n",
       "      <td>0.587937</td>\n",
       "      <td>-0.347063</td>\n",
       "      <td>-0.515750</td>\n",
       "      <td>-0.409906</td>\n",
       "      <td>0.051457</td>\n",
       "      <td>-0.095557</td>\n",
       "    </tr>\n",
       "    <tr>\n",
       "      <th>Restaurant_longitude</th>\n",
       "      <td>-0.010030</td>\n",
       "      <td>-0.037772</td>\n",
       "      <td>0.660487</td>\n",
       "      <td>1.000000</td>\n",
       "      <td>0.616936</td>\n",
       "      <td>0.903097</td>\n",
       "      <td>-0.274910</td>\n",
       "      <td>-0.228413</td>\n",
       "      <td>-0.580229</td>\n",
       "      <td>0.027248</td>\n",
       "      <td>-0.092979</td>\n",
       "    </tr>\n",
       "    <tr>\n",
       "      <th>Delivery_location_latitude</th>\n",
       "      <td>0.013250</td>\n",
       "      <td>-0.023595</td>\n",
       "      <td>0.842278</td>\n",
       "      <td>0.616936</td>\n",
       "      <td>1.000000</td>\n",
       "      <td>0.689675</td>\n",
       "      <td>-0.408211</td>\n",
       "      <td>-0.603911</td>\n",
       "      <td>-0.477860</td>\n",
       "      <td>0.056578</td>\n",
       "      <td>-0.084604</td>\n",
       "    </tr>\n",
       "    <tr>\n",
       "      <th>Delivery_location_longitude</th>\n",
       "      <td>0.002665</td>\n",
       "      <td>-0.025019</td>\n",
       "      <td>0.587937</td>\n",
       "      <td>0.903097</td>\n",
       "      <td>0.689675</td>\n",
       "      <td>1.000000</td>\n",
       "      <td>-0.308557</td>\n",
       "      <td>-0.254370</td>\n",
       "      <td>-0.642463</td>\n",
       "      <td>0.028340</td>\n",
       "      <td>-0.090804</td>\n",
       "    </tr>\n",
       "    <tr>\n",
       "      <th>temperature</th>\n",
       "      <td>0.000601</td>\n",
       "      <td>0.000769</td>\n",
       "      <td>-0.347063</td>\n",
       "      <td>-0.274910</td>\n",
       "      <td>-0.408211</td>\n",
       "      <td>-0.308557</td>\n",
       "      <td>1.000000</td>\n",
       "      <td>-0.052382</td>\n",
       "      <td>0.219727</td>\n",
       "      <td>-0.039592</td>\n",
       "      <td>0.075761</td>\n",
       "    </tr>\n",
       "    <tr>\n",
       "      <th>humidity</th>\n",
       "      <td>0.000057</td>\n",
       "      <td>0.022168</td>\n",
       "      <td>-0.515750</td>\n",
       "      <td>-0.228413</td>\n",
       "      <td>-0.603911</td>\n",
       "      <td>-0.254370</td>\n",
       "      <td>-0.052382</td>\n",
       "      <td>1.000000</td>\n",
       "      <td>0.226585</td>\n",
       "      <td>-0.124093</td>\n",
       "      <td>0.018667</td>\n",
       "    </tr>\n",
       "    <tr>\n",
       "      <th>precipitation</th>\n",
       "      <td>0.002383</td>\n",
       "      <td>0.030816</td>\n",
       "      <td>-0.409906</td>\n",
       "      <td>-0.580229</td>\n",
       "      <td>-0.477860</td>\n",
       "      <td>-0.642463</td>\n",
       "      <td>0.219727</td>\n",
       "      <td>0.226585</td>\n",
       "      <td>1.000000</td>\n",
       "      <td>-0.012266</td>\n",
       "      <td>0.070745</td>\n",
       "    </tr>\n",
       "    <tr>\n",
       "      <th>Distance (km)</th>\n",
       "      <td>0.004037</td>\n",
       "      <td>-0.112288</td>\n",
       "      <td>0.051457</td>\n",
       "      <td>0.027248</td>\n",
       "      <td>0.056578</td>\n",
       "      <td>0.028340</td>\n",
       "      <td>-0.039592</td>\n",
       "      <td>-0.124093</td>\n",
       "      <td>-0.012266</td>\n",
       "      <td>1.000000</td>\n",
       "      <td>0.858274</td>\n",
       "    </tr>\n",
       "    <tr>\n",
       "      <th>TARGET</th>\n",
       "      <td>0.006035</td>\n",
       "      <td>-0.091076</td>\n",
       "      <td>-0.095557</td>\n",
       "      <td>-0.092979</td>\n",
       "      <td>-0.084604</td>\n",
       "      <td>-0.090804</td>\n",
       "      <td>0.075761</td>\n",
       "      <td>0.018667</td>\n",
       "      <td>0.070745</td>\n",
       "      <td>0.858274</td>\n",
       "      <td>1.000000</td>\n",
       "    </tr>\n",
       "  </tbody>\n",
       "</table>\n",
       "</div>"
      ],
      "text/plain": [
       "                             Delivery_person_Age  Delivery_person_Ratings  \\\n",
       "Delivery_person_Age                     1.000000                -0.080000   \n",
       "Delivery_person_Ratings                -0.080000                 1.000000   \n",
       "Restaurant_latitude                     0.003197                -0.029878   \n",
       "Restaurant_longitude                   -0.010030                -0.037772   \n",
       "Delivery_location_latitude              0.013250                -0.023595   \n",
       "Delivery_location_longitude             0.002665                -0.025019   \n",
       "temperature                             0.000601                 0.000769   \n",
       "humidity                                0.000057                 0.022168   \n",
       "precipitation                           0.002383                 0.030816   \n",
       "Distance (km)                           0.004037                -0.112288   \n",
       "TARGET                                  0.006035                -0.091076   \n",
       "\n",
       "                             Restaurant_latitude  Restaurant_longitude  \\\n",
       "Delivery_person_Age                     0.003197             -0.010030   \n",
       "Delivery_person_Ratings                -0.029878             -0.037772   \n",
       "Restaurant_latitude                     1.000000              0.660487   \n",
       "Restaurant_longitude                    0.660487              1.000000   \n",
       "Delivery_location_latitude              0.842278              0.616936   \n",
       "Delivery_location_longitude             0.587937              0.903097   \n",
       "temperature                            -0.347063             -0.274910   \n",
       "humidity                               -0.515750             -0.228413   \n",
       "precipitation                          -0.409906             -0.580229   \n",
       "Distance (km)                           0.051457              0.027248   \n",
       "TARGET                                 -0.095557             -0.092979   \n",
       "\n",
       "                             Delivery_location_latitude  \\\n",
       "Delivery_person_Age                            0.013250   \n",
       "Delivery_person_Ratings                       -0.023595   \n",
       "Restaurant_latitude                            0.842278   \n",
       "Restaurant_longitude                           0.616936   \n",
       "Delivery_location_latitude                     1.000000   \n",
       "Delivery_location_longitude                    0.689675   \n",
       "temperature                                   -0.408211   \n",
       "humidity                                      -0.603911   \n",
       "precipitation                                 -0.477860   \n",
       "Distance (km)                                  0.056578   \n",
       "TARGET                                        -0.084604   \n",
       "\n",
       "                             Delivery_location_longitude  temperature  \\\n",
       "Delivery_person_Age                             0.002665     0.000601   \n",
       "Delivery_person_Ratings                        -0.025019     0.000769   \n",
       "Restaurant_latitude                             0.587937    -0.347063   \n",
       "Restaurant_longitude                            0.903097    -0.274910   \n",
       "Delivery_location_latitude                      0.689675    -0.408211   \n",
       "Delivery_location_longitude                     1.000000    -0.308557   \n",
       "temperature                                    -0.308557     1.000000   \n",
       "humidity                                       -0.254370    -0.052382   \n",
       "precipitation                                  -0.642463     0.219727   \n",
       "Distance (km)                                   0.028340    -0.039592   \n",
       "TARGET                                         -0.090804     0.075761   \n",
       "\n",
       "                             humidity  precipitation  Distance (km)    TARGET  \n",
       "Delivery_person_Age          0.000057       0.002383       0.004037  0.006035  \n",
       "Delivery_person_Ratings      0.022168       0.030816      -0.112288 -0.091076  \n",
       "Restaurant_latitude         -0.515750      -0.409906       0.051457 -0.095557  \n",
       "Restaurant_longitude        -0.228413      -0.580229       0.027248 -0.092979  \n",
       "Delivery_location_latitude  -0.603911      -0.477860       0.056578 -0.084604  \n",
       "Delivery_location_longitude -0.254370      -0.642463       0.028340 -0.090804  \n",
       "temperature                 -0.052382       0.219727      -0.039592  0.075761  \n",
       "humidity                     1.000000       0.226585      -0.124093  0.018667  \n",
       "precipitation                0.226585       1.000000      -0.012266  0.070745  \n",
       "Distance (km)               -0.124093      -0.012266       1.000000  0.858274  \n",
       "TARGET                       0.018667       0.070745       0.858274  1.000000  "
      ]
     },
     "execution_count": 117,
     "metadata": {},
     "output_type": "execute_result"
    }
   ],
   "source": [
    "num_df.corr()"
   ]
  },
  {
   "cell_type": "code",
   "execution_count": 118,
   "id": "af85703b-1f9f-44b4-93af-8f43aa3c5f31",
   "metadata": {},
   "outputs": [
    {
     "data": {
      "text/plain": [
       "<Figure size 1500x1000 with 0 Axes>"
      ]
     },
     "metadata": {},
     "output_type": "display_data"
    },
    {
     "data": {
      "image/png": "[encoded data removed]",
      "text/plain": [
       "<Figure size 1500x1000 with 12 Axes>"
      ]
     },
     "metadata": {},
     "output_type": "display_data"
    }
   ],
   "source": [
    "plt.figure(figsize=(15, 10))\n",
    "df.select_dtypes(include=['float64']).hist(bins=20, figsize=(15, 10), color='red', edgecolor='black')\n",
    "plt.suptitle(\"Distribution of Numerical Columns\")\n",
    "plt.show()"
   ]
  },
  {
   "cell_type": "code",
   "execution_count": 119,
   "id": "3d12b26c-cb88-4eef-b3cb-2156610c1562",
   "metadata": {},
   "outputs": [
    {
     "name": "stdout",
     "output_type": "stream",
     "text": [
      "first quentile q1: 26.78333333\n",
      "thired quemntile q3: 46.26666667\n",
      "lower wisker Lw: -2.4416666799999938\n",
      "Upper wisker: 17.041666660000004\n",
      "Interquertile range: 19.483333339999998\n"
     ]
    }
   ],
   "source": [
    "#check outlier \n",
    "q1=df[\"TARGET\"].quantile(0.25) # first quentile\n",
    "q3=df[\"TARGET\"].quantile(0.75) # thired quentile\n",
    " # find theinter queyttile range  \n",
    "IQR=q3-q1\n",
    "# find the lower wisker\n",
    "Lw=q1-1.5*IQR\n",
    " # find the upper wisker\n",
    "Uw=q3-1.5*IQR\n",
    "print(\"first quentile q1:\",q1)\n",
    "print(\"thired quemntile q3:\",q3)\n",
    "print(\"lower wisker Lw:\",Lw)\n",
    "print(\"Upper wisker:\",Uw)\n",
    "print(\"Interquertile range:\",IQR)"
   ]
  },
  {
   "cell_type": "code",
   "execution_count": null,
   "id": "fe36cab5-ee93-49c2-841e-a2c4cba5c296",
   "metadata": {},
   "outputs": [],
   "source": []
  },
  {
   "cell_type": "code",
   "execution_count": 120,
   "id": "9fa0449f-bb14-4a2c-bf66-93850c0fc0ec",
   "metadata": {},
   "outputs": [
    {
     "data": {
      "text/plain": [
       "{'whiskers': [<matplotlib.lines.Line2D at 0x25dfa8f2e10>,\n",
       "  <matplotlib.lines.Line2D at 0x25dfaae6a10>],\n",
       " 'caps': [<matplotlib.lines.Line2D at 0x25dfca6fe10>,\n",
       "  <matplotlib.lines.Line2D at 0x25dfca6d510>],\n",
       " 'boxes': [<matplotlib.lines.Line2D at 0x25dfa8f3b90>],\n",
       " 'medians': [<matplotlib.lines.Line2D at 0x25dfca6cf90>],\n",
       " 'fliers': [<matplotlib.lines.Line2D at 0x25dfca6e190>],\n",
       " 'means': []}"
      ]
     },
     "execution_count": 120,
     "metadata": {},
     "output_type": "execute_result"
    },
    {
     "data": {
      "image/png": "[encoded data removed]",
      "text/plain": [
       "<Figure size 640x480 with 1 Axes>"
      ]
     },
     "metadata": {},
     "output_type": "display_data"
    }
   ],
   "source": [
    "#check outlier with the help of  BOXPLOT\n",
    "plt.boxplot(data=df,x=\"TARGET\")"
   ]
  },
  {
   "cell_type": "code",
   "execution_count": 121,
   "id": "fb774e03-5f93-4cdf-b1aa-dbcdd3c707ec",
   "metadata": {},
   "outputs": [
    {
     "data": {
      "text/plain": [
       "Index(['ID', 'Delivery_person_ID', 'Delivery_person_Age',\n",
       "       'Delivery_person_Ratings', 'Restaurant_latitude',\n",
       "       'Restaurant_longitude', 'Delivery_location_latitude',\n",
       "       'Delivery_location_longitude', 'Type_of_order', 'Type_of_vehicle',\n",
       "       'temperature', 'humidity', 'precipitation', 'weather_description',\n",
       "       'Traffic_Level', 'Distance (km)', 'TARGET'],\n",
       "      dtype='object')"
      ]
     },
     "execution_count": 121,
     "metadata": {},
     "output_type": "execute_result"
    }
   ],
   "source": [
    "df.columns"
   ]
  },
  {
   "cell_type": "code",
   "execution_count": 122,
   "id": "01993f99-f8c7-44b0-a55d-80ec15643d6d",
   "metadata": {},
   "outputs": [
    {
     "data": {
      "text/plain": [
       "<Axes: xlabel='Delivery_location_latitude'>"
      ]
     },
     "execution_count": 122,
     "metadata": {},
     "output_type": "execute_result"
    },
    {
     "data": {
      "image/png": "[encoded data removed]",
      "text/plain": [
       "<Figure size 640x480 with 1 Axes>"
      ]
     },
     "metadata": {},
     "output_type": "display_data"
    }
   ],
   "source": [
    "sns.boxplot(data=df,x=\"Delivery_location_latitude\")"
   ]
  },
  {
   "cell_type": "code",
   "execution_count": 123,
   "id": "2276feda-f80f-4fc1-be19-8f1731e9b721",
   "metadata": {},
   "outputs": [
    {
     "name": "stdout",
     "output_type": "stream",
     "text": [
      "first quentile q1: 12.984179\n",
      "thired quemntile q3: 22.785049\n",
      "lower wisker Lw: -1.7171260000000022\n",
      "Upper wisker: 8.083744\n",
      "Interquertile range: 9.800870000000002\n"
     ]
    }
   ],
   "source": [
    "q1=df[\"Delivery_location_latitude\"].quantile(0.25) # first quentile\n",
    "q3=df[\"Delivery_location_latitude\"].quantile(0.75) # thired quentile\n",
    " # find theinter queyttile range  \n",
    "IQR=q3-q1\n",
    "# find the lower wisker\n",
    "Lw=q1-1.5*IQR\n",
    " # find the upper wisker\n",
    "Uw=q3-1.5*IQR\n",
    "print(\"first quentile q1:\",q1)\n",
    "print(\"thired quemntile q3:\",q3)\n",
    "print(\"lower wisker Lw:\",Lw)\n",
    "print(\"Upper wisker:\",Uw)\n",
    "print(\"Interquertile range:\",IQR)"
   ]
  },
  {
   "cell_type": "code",
   "execution_count": 124,
   "id": "a2a16283-7889-4460-82e5-9a4979f65a37",
   "metadata": {},
   "outputs": [
    {
     "data": {
      "image/png": "[encoded data removed]",
      "text/plain": [
       "<Figure size 1200x600 with 1 Axes>"
      ]
     },
     "metadata": {},
     "output_type": "display_data"
    }
   ],
   "source": [
    "#Delivery Distance Distribution by Vehicle Type\n",
    "plt.figure(figsize=(12, 6))\n",
    "sns.boxplot(data=df, x='Type_of_vehicle', y='Distance (km)', palette='muted')\n",
    "plt.title(\"Delivery Distance Distribution by Vehicle Type\")\n",
    "plt.xticks(rotation=45)\n",
    "plt.show()"
   ]
  },
  {
   "cell_type": "code",
   "execution_count": 125,
   "id": "569922b8-e337-418e-97b4-5f3b32ad2eaf",
   "metadata": {},
   "outputs": [
    {
     "data": {
      "text/html": [
       "<div>\n",
       "<style scoped>\n",
       "    .dataframe tbody tr th:only-of-type {\n",
       "        vertical-align: middle;\n",
       "    }\n",
       "\n",
       "    .dataframe tbody tr th {\n",
       "        vertical-align: top;\n",
       "    }\n",
       "\n",
       "    .dataframe thead th {\n",
       "        text-align: right;\n",
       "    }\n",
       "</style>\n",
       "<table border=\"1\" class=\"dataframe\">\n",
       "  <thead>\n",
       "    <tr style=\"text-align: right;\">\n",
       "      <th></th>\n",
       "      <th>Delivery_person_Age</th>\n",
       "      <th>Delivery_person_Ratings</th>\n",
       "      <th>Restaurant_latitude</th>\n",
       "      <th>Restaurant_longitude</th>\n",
       "      <th>Delivery_location_latitude</th>\n",
       "      <th>Delivery_location_longitude</th>\n",
       "      <th>Type_of_order</th>\n",
       "      <th>Type_of_vehicle</th>\n",
       "      <th>temperature</th>\n",
       "      <th>humidity</th>\n",
       "      <th>precipitation</th>\n",
       "      <th>weather_description</th>\n",
       "      <th>Traffic_Level</th>\n",
       "      <th>Distance (km)</th>\n",
       "      <th>TARGET</th>\n",
       "    </tr>\n",
       "  </thead>\n",
       "  <tbody>\n",
       "    <tr>\n",
       "      <th>0</th>\n",
       "      <td>37.0</td>\n",
       "      <td>4.9</td>\n",
       "      <td>22.745049</td>\n",
       "      <td>75.892471</td>\n",
       "      <td>22.765049</td>\n",
       "      <td>75.912471</td>\n",
       "      <td>Snack</td>\n",
       "      <td>motorcycle</td>\n",
       "      <td>17.11</td>\n",
       "      <td>77.0</td>\n",
       "      <td>0.0</td>\n",
       "      <td>haze</td>\n",
       "      <td>Low</td>\n",
       "      <td>13.40</td>\n",
       "      <td>21.666667</td>\n",
       "    </tr>\n",
       "    <tr>\n",
       "      <th>1</th>\n",
       "      <td>34.0</td>\n",
       "      <td>4.5</td>\n",
       "      <td>12.913041</td>\n",
       "      <td>77.683237</td>\n",
       "      <td>13.043041</td>\n",
       "      <td>77.813237</td>\n",
       "      <td>Snack</td>\n",
       "      <td>scooter</td>\n",
       "      <td>19.50</td>\n",
       "      <td>93.0</td>\n",
       "      <td>0.0</td>\n",
       "      <td>mist</td>\n",
       "      <td>Very High</td>\n",
       "      <td>37.17</td>\n",
       "      <td>85.266667</td>\n",
       "    </tr>\n",
       "    <tr>\n",
       "      <th>2</th>\n",
       "      <td>23.0</td>\n",
       "      <td>4.4</td>\n",
       "      <td>12.914264</td>\n",
       "      <td>77.678400</td>\n",
       "      <td>12.924264</td>\n",
       "      <td>77.688400</td>\n",
       "      <td>Drinks</td>\n",
       "      <td>motorcycle</td>\n",
       "      <td>20.45</td>\n",
       "      <td>91.0</td>\n",
       "      <td>0.0</td>\n",
       "      <td>mist</td>\n",
       "      <td>Low</td>\n",
       "      <td>3.34</td>\n",
       "      <td>28.583333</td>\n",
       "    </tr>\n",
       "    <tr>\n",
       "      <th>3</th>\n",
       "      <td>38.0</td>\n",
       "      <td>4.7</td>\n",
       "      <td>11.003669</td>\n",
       "      <td>76.976494</td>\n",
       "      <td>11.053669</td>\n",
       "      <td>77.026494</td>\n",
       "      <td>Buffet</td>\n",
       "      <td>motorcycle</td>\n",
       "      <td>23.86</td>\n",
       "      <td>78.0</td>\n",
       "      <td>0.0</td>\n",
       "      <td>mist</td>\n",
       "      <td>Moderate</td>\n",
       "      <td>10.05</td>\n",
       "      <td>35.183333</td>\n",
       "    </tr>\n",
       "    <tr>\n",
       "      <th>4</th>\n",
       "      <td>32.0</td>\n",
       "      <td>4.6</td>\n",
       "      <td>12.972793</td>\n",
       "      <td>80.249982</td>\n",
       "      <td>13.012793</td>\n",
       "      <td>80.289982</td>\n",
       "      <td>Snack</td>\n",
       "      <td>scooter</td>\n",
       "      <td>26.55</td>\n",
       "      <td>87.0</td>\n",
       "      <td>0.0</td>\n",
       "      <td>mist</td>\n",
       "      <td>High</td>\n",
       "      <td>9.89</td>\n",
       "      <td>43.450000</td>\n",
       "    </tr>\n",
       "    <tr>\n",
       "      <th>...</th>\n",
       "      <td>...</td>\n",
       "      <td>...</td>\n",
       "      <td>...</td>\n",
       "      <td>...</td>\n",
       "      <td>...</td>\n",
       "      <td>...</td>\n",
       "      <td>...</td>\n",
       "      <td>...</td>\n",
       "      <td>...</td>\n",
       "      <td>...</td>\n",
       "      <td>...</td>\n",
       "      <td>...</td>\n",
       "      <td>...</td>\n",
       "      <td>...</td>\n",
       "      <td>...</td>\n",
       "    </tr>\n",
       "    <tr>\n",
       "      <th>9996</th>\n",
       "      <td>32.0</td>\n",
       "      <td>4.2</td>\n",
       "      <td>22.310237</td>\n",
       "      <td>73.158921</td>\n",
       "      <td>22.400237</td>\n",
       "      <td>73.248921</td>\n",
       "      <td>Meal</td>\n",
       "      <td>motorcycle</td>\n",
       "      <td>23.96</td>\n",
       "      <td>64.0</td>\n",
       "      <td>0.0</td>\n",
       "      <td>haze</td>\n",
       "      <td>High</td>\n",
       "      <td>18.92</td>\n",
       "      <td>32.616667</td>\n",
       "    </tr>\n",
       "    <tr>\n",
       "      <th>9997</th>\n",
       "      <td>36.0</td>\n",
       "      <td>4.7</td>\n",
       "      <td>17.483216</td>\n",
       "      <td>78.552111</td>\n",
       "      <td>17.493216</td>\n",
       "      <td>78.562111</td>\n",
       "      <td>Meal</td>\n",
       "      <td>motorcycle</td>\n",
       "      <td>22.94</td>\n",
       "      <td>60.0</td>\n",
       "      <td>0.0</td>\n",
       "      <td>haze</td>\n",
       "      <td>Low</td>\n",
       "      <td>2.64</td>\n",
       "      <td>12.016667</td>\n",
       "    </tr>\n",
       "    <tr>\n",
       "      <th>9998</th>\n",
       "      <td>37.0</td>\n",
       "      <td>4.6</td>\n",
       "      <td>26.913987</td>\n",
       "      <td>75.752891</td>\n",
       "      <td>27.053987</td>\n",
       "      <td>75.892891</td>\n",
       "      <td>Buffet</td>\n",
       "      <td>scooter</td>\n",
       "      <td>23.72</td>\n",
       "      <td>31.0</td>\n",
       "      <td>0.0</td>\n",
       "      <td>clear sky</td>\n",
       "      <td>Very High</td>\n",
       "      <td>28.80</td>\n",
       "      <td>51.066667</td>\n",
       "    </tr>\n",
       "    <tr>\n",
       "      <th>9999</th>\n",
       "      <td>29.0</td>\n",
       "      <td>4.7</td>\n",
       "      <td>18.994237</td>\n",
       "      <td>72.825553</td>\n",
       "      <td>19.084237</td>\n",
       "      <td>72.915553</td>\n",
       "      <td>Meal</td>\n",
       "      <td>scooter</td>\n",
       "      <td>28.01</td>\n",
       "      <td>57.0</td>\n",
       "      <td>0.0</td>\n",
       "      <td>smoke</td>\n",
       "      <td>High</td>\n",
       "      <td>17.63</td>\n",
       "      <td>43.800000</td>\n",
       "    </tr>\n",
       "    <tr>\n",
       "      <th>10000</th>\n",
       "      <td>29.0</td>\n",
       "      <td>4.7</td>\n",
       "      <td>18.546258</td>\n",
       "      <td>75.902847</td>\n",
       "      <td>18.626216</td>\n",
       "      <td>76.022574</td>\n",
       "      <td>Snack</td>\n",
       "      <td>motorcycle</td>\n",
       "      <td>23.00</td>\n",
       "      <td>67.0</td>\n",
       "      <td>0.0</td>\n",
       "      <td>clear sky</td>\n",
       "      <td>High</td>\n",
       "      <td>13.40</td>\n",
       "      <td>43.330000</td>\n",
       "    </tr>\n",
       "  </tbody>\n",
       "</table>\n",
       "<p>10001 rows × 15 columns</p>\n",
       "</div>"
      ],
      "text/plain": [
       "       Delivery_person_Age  Delivery_person_Ratings  Restaurant_latitude  \\\n",
       "0                     37.0                      4.9            22.745049   \n",
       "1                     34.0                      4.5            12.913041   \n",
       "2                     23.0                      4.4            12.914264   \n",
       "3                     38.0                      4.7            11.003669   \n",
       "4                     32.0                      4.6            12.972793   \n",
       "...                    ...                      ...                  ...   \n",
       "9996                  32.0                      4.2            22.310237   \n",
       "9997                  36.0                      4.7            17.483216   \n",
       "9998                  37.0                      4.6            26.913987   \n",
       "9999                  29.0                      4.7            18.994237   \n",
       "10000                 29.0                      4.7            18.546258   \n",
       "\n",
       "       Restaurant_longitude  Delivery_location_latitude  \\\n",
       "0                 75.892471                   22.765049   \n",
       "1                 77.683237                   13.043041   \n",
       "2                 77.678400                   12.924264   \n",
       "3                 76.976494                   11.053669   \n",
       "4                 80.249982                   13.012793   \n",
       "...                     ...                         ...   \n",
       "9996              73.158921                   22.400237   \n",
       "9997              78.552111                   17.493216   \n",
       "9998              75.752891                   27.053987   \n",
       "9999              72.825553                   19.084237   \n",
       "10000             75.902847                   18.626216   \n",
       "\n",
       "       Delivery_location_longitude Type_of_order Type_of_vehicle  temperature  \\\n",
       "0                        75.912471        Snack      motorcycle         17.11   \n",
       "1                        77.813237        Snack         scooter         19.50   \n",
       "2                        77.688400       Drinks      motorcycle         20.45   \n",
       "3                        77.026494       Buffet      motorcycle         23.86   \n",
       "4                        80.289982        Snack         scooter         26.55   \n",
       "...                            ...           ...             ...          ...   \n",
       "9996                     73.248921         Meal      motorcycle         23.96   \n",
       "9997                     78.562111         Meal      motorcycle         22.94   \n",
       "9998                     75.892891       Buffet         scooter         23.72   \n",
       "9999                     72.915553         Meal         scooter         28.01   \n",
       "10000                    76.022574        Snack      motorcycle         23.00   \n",
       "\n",
       "       humidity  precipitation weather_description Traffic_Level  \\\n",
       "0          77.0            0.0                haze           Low   \n",
       "1          93.0            0.0                mist     Very High   \n",
       "2          91.0            0.0                mist           Low   \n",
       "3          78.0            0.0                mist      Moderate   \n",
       "4          87.0            0.0                mist          High   \n",
       "...         ...            ...                 ...           ...   \n",
       "9996       64.0            0.0                haze          High   \n",
       "9997       60.0            0.0                haze           Low   \n",
       "9998       31.0            0.0           clear sky     Very High   \n",
       "9999       57.0            0.0               smoke          High   \n",
       "10000      67.0            0.0           clear sky          High   \n",
       "\n",
       "       Distance (km)     TARGET  \n",
       "0              13.40  21.666667  \n",
       "1              37.17  85.266667  \n",
       "2               3.34  28.583333  \n",
       "3              10.05  35.183333  \n",
       "4               9.89  43.450000  \n",
       "...              ...        ...  \n",
       "9996           18.92  32.616667  \n",
       "9997            2.64  12.016667  \n",
       "9998           28.80  51.066667  \n",
       "9999           17.63  43.800000  \n",
       "10000          13.40  43.330000  \n",
       "\n",
       "[10001 rows x 15 columns]"
      ]
     },
     "execution_count": 125,
     "metadata": {},
     "output_type": "execute_result"
    }
   ],
   "source": [
    "#he ID and Delivery_person_ID columns are generally not important for building a machine learning model, as they serve merely\n",
    "#as unique identifiers and do not provide valuable information for prediction.\n",
    "#Including them can lead to overfitting, where the model learns to rely on these identifiers rather than the actual features that influence delivery outcomes\n",
    "df.drop([\"ID\",\"Delivery_person_ID\"],axis=1,inplace=True)\n",
    "df"
   ]
  },
  {
   "cell_type": "code",
   "execution_count": 126,
   "id": "f48f72b0-3951-4d0d-9ba7-d44df23633ed",
   "metadata": {},
   "outputs": [
    {
     "data": {
      "text/plain": [
       "Delivery_person_Age            float64\n",
       "Delivery_person_Ratings        float64\n",
       "Restaurant_latitude            float64\n",
       "Restaurant_longitude           float64\n",
       "Delivery_location_latitude     float64\n",
       "Delivery_location_longitude    float64\n",
       "Type_of_order                   object\n",
       "Type_of_vehicle                 object\n",
       "temperature                    float64\n",
       "humidity                       float64\n",
       "precipitation                  float64\n",
       "weather_description             object\n",
       "Traffic_Level                   object\n",
       "Distance (km)                  float64\n",
       "TARGET                         float64\n",
       "dtype: object"
      ]
     },
     "execution_count": 126,
     "metadata": {},
     "output_type": "execute_result"
    }
   ],
   "source": [
    "# in the given datset there is not an outlier\n",
    "# now we use the label encoder to convert the  categorical columns into the numerical data\n",
    "df.dtypes"
   ]
  },
  {
   "cell_type": "code",
   "execution_count": 127,
   "id": "b1f023a1-d49e-4288-88dc-f6c89ec731df",
   "metadata": {},
   "outputs": [],
   "source": [
    "#separate the numeric column and object column and hold in new dataframe num_df and cat_df\n",
    "num_df=df.select_dtypes(\"float64\")\n",
    "cat_df=df.select_dtypes([\"object\"])"
   ]
  },
  {
   "cell_type": "code",
   "execution_count": 128,
   "id": "f4c6062a-b067-4307-8947-0a969a855885",
   "metadata": {},
   "outputs": [
    {
     "data": {
      "text/plain": [
       "Type_of_order          object\n",
       "Type_of_vehicle        object\n",
       "weather_description    object\n",
       "Traffic_Level          object\n",
       "dtype: object"
      ]
     },
     "execution_count": 128,
     "metadata": {},
     "output_type": "execute_result"
    }
   ],
   "source": [
    "# checking the object columns in cat_df \n",
    "cat_df.dtypes"
   ]
  },
  {
   "cell_type": "code",
   "execution_count": 129,
   "id": "ccc19adb-37db-426e-969b-2faa4312e230",
   "metadata": {},
   "outputs": [],
   "source": [
    "# uning the for loop to convert object type data to number\n",
    "for col in cat_df:\n",
    "   le=LabelEncoder()\n",
    "   cat_df[col]=le.fit_transform(cat_df[col])\n"
   ]
  },
  {
   "cell_type": "code",
   "execution_count": null,
   "id": "67cf8934-4611-44d7-8b04-7d660a26c92c",
   "metadata": {},
   "outputs": [],
   "source": []
  },
  {
   "cell_type": "code",
   "execution_count": 130,
   "id": "f3e72c7a-9f0d-4f81-a936-250cc3b4bf6d",
   "metadata": {},
   "outputs": [
    {
     "data": {
      "text/plain": [
       "Type_of_order          int32\n",
       "Type_of_vehicle        int32\n",
       "weather_description    int32\n",
       "Traffic_Level          int32\n",
       "dtype: object"
      ]
     },
     "execution_count": 130,
     "metadata": {},
     "output_type": "execute_result"
    }
   ],
   "source": [
    "cat_df.dtypes"
   ]
  },
  {
   "cell_type": "code",
   "execution_count": 131,
   "id": "bfb22367-179a-4267-bce8-08ead320acec",
   "metadata": {},
   "outputs": [
    {
     "data": {
      "text/html": [
       "<div>\n",
       "<style scoped>\n",
       "    .dataframe tbody tr th:only-of-type {\n",
       "        vertical-align: middle;\n",
       "    }\n",
       "\n",
       "    .dataframe tbody tr th {\n",
       "        vertical-align: top;\n",
       "    }\n",
       "\n",
       "    .dataframe thead th {\n",
       "        text-align: right;\n",
       "    }\n",
       "</style>\n",
       "<table border=\"1\" class=\"dataframe\">\n",
       "  <thead>\n",
       "    <tr style=\"text-align: right;\">\n",
       "      <th></th>\n",
       "      <th>Type_of_order</th>\n",
       "      <th>Type_of_vehicle</th>\n",
       "      <th>weather_description</th>\n",
       "      <th>Traffic_Level</th>\n",
       "      <th>Delivery_person_Age</th>\n",
       "      <th>Delivery_person_Ratings</th>\n",
       "      <th>Restaurant_latitude</th>\n",
       "      <th>Restaurant_longitude</th>\n",
       "      <th>Delivery_location_latitude</th>\n",
       "      <th>Delivery_location_longitude</th>\n",
       "      <th>temperature</th>\n",
       "      <th>humidity</th>\n",
       "      <th>precipitation</th>\n",
       "      <th>Distance (km)</th>\n",
       "      <th>TARGET</th>\n",
       "    </tr>\n",
       "  </thead>\n",
       "  <tbody>\n",
       "    <tr>\n",
       "      <th>0</th>\n",
       "      <td>3</td>\n",
       "      <td>2</td>\n",
       "      <td>4</td>\n",
       "      <td>1</td>\n",
       "      <td>37.0</td>\n",
       "      <td>4.9</td>\n",
       "      <td>22.745049</td>\n",
       "      <td>75.892471</td>\n",
       "      <td>22.765049</td>\n",
       "      <td>75.912471</td>\n",
       "      <td>17.11</td>\n",
       "      <td>77.0</td>\n",
       "      <td>0.0</td>\n",
       "      <td>13.40</td>\n",
       "      <td>21.666667</td>\n",
       "    </tr>\n",
       "    <tr>\n",
       "      <th>1</th>\n",
       "      <td>3</td>\n",
       "      <td>3</td>\n",
       "      <td>6</td>\n",
       "      <td>3</td>\n",
       "      <td>34.0</td>\n",
       "      <td>4.5</td>\n",
       "      <td>12.913041</td>\n",
       "      <td>77.683237</td>\n",
       "      <td>13.043041</td>\n",
       "      <td>77.813237</td>\n",
       "      <td>19.50</td>\n",
       "      <td>93.0</td>\n",
       "      <td>0.0</td>\n",
       "      <td>37.17</td>\n",
       "      <td>85.266667</td>\n",
       "    </tr>\n",
       "    <tr>\n",
       "      <th>2</th>\n",
       "      <td>1</td>\n",
       "      <td>2</td>\n",
       "      <td>6</td>\n",
       "      <td>1</td>\n",
       "      <td>23.0</td>\n",
       "      <td>4.4</td>\n",
       "      <td>12.914264</td>\n",
       "      <td>77.678400</td>\n",
       "      <td>12.924264</td>\n",
       "      <td>77.688400</td>\n",
       "      <td>20.45</td>\n",
       "      <td>91.0</td>\n",
       "      <td>0.0</td>\n",
       "      <td>3.34</td>\n",
       "      <td>28.583333</td>\n",
       "    </tr>\n",
       "    <tr>\n",
       "      <th>3</th>\n",
       "      <td>0</td>\n",
       "      <td>2</td>\n",
       "      <td>6</td>\n",
       "      <td>2</td>\n",
       "      <td>38.0</td>\n",
       "      <td>4.7</td>\n",
       "      <td>11.003669</td>\n",
       "      <td>76.976494</td>\n",
       "      <td>11.053669</td>\n",
       "      <td>77.026494</td>\n",
       "      <td>23.86</td>\n",
       "      <td>78.0</td>\n",
       "      <td>0.0</td>\n",
       "      <td>10.05</td>\n",
       "      <td>35.183333</td>\n",
       "    </tr>\n",
       "    <tr>\n",
       "      <th>4</th>\n",
       "      <td>3</td>\n",
       "      <td>3</td>\n",
       "      <td>6</td>\n",
       "      <td>0</td>\n",
       "      <td>32.0</td>\n",
       "      <td>4.6</td>\n",
       "      <td>12.972793</td>\n",
       "      <td>80.249982</td>\n",
       "      <td>13.012793</td>\n",
       "      <td>80.289982</td>\n",
       "      <td>26.55</td>\n",
       "      <td>87.0</td>\n",
       "      <td>0.0</td>\n",
       "      <td>9.89</td>\n",
       "      <td>43.450000</td>\n",
       "    </tr>\n",
       "    <tr>\n",
       "      <th>...</th>\n",
       "      <td>...</td>\n",
       "      <td>...</td>\n",
       "      <td>...</td>\n",
       "      <td>...</td>\n",
       "      <td>...</td>\n",
       "      <td>...</td>\n",
       "      <td>...</td>\n",
       "      <td>...</td>\n",
       "      <td>...</td>\n",
       "      <td>...</td>\n",
       "      <td>...</td>\n",
       "      <td>...</td>\n",
       "      <td>...</td>\n",
       "      <td>...</td>\n",
       "      <td>...</td>\n",
       "    </tr>\n",
       "    <tr>\n",
       "      <th>9996</th>\n",
       "      <td>2</td>\n",
       "      <td>2</td>\n",
       "      <td>4</td>\n",
       "      <td>0</td>\n",
       "      <td>32.0</td>\n",
       "      <td>4.2</td>\n",
       "      <td>22.310237</td>\n",
       "      <td>73.158921</td>\n",
       "      <td>22.400237</td>\n",
       "      <td>73.248921</td>\n",
       "      <td>23.96</td>\n",
       "      <td>64.0</td>\n",
       "      <td>0.0</td>\n",
       "      <td>18.92</td>\n",
       "      <td>32.616667</td>\n",
       "    </tr>\n",
       "    <tr>\n",
       "      <th>9997</th>\n",
       "      <td>2</td>\n",
       "      <td>2</td>\n",
       "      <td>4</td>\n",
       "      <td>1</td>\n",
       "      <td>36.0</td>\n",
       "      <td>4.7</td>\n",
       "      <td>17.483216</td>\n",
       "      <td>78.552111</td>\n",
       "      <td>17.493216</td>\n",
       "      <td>78.562111</td>\n",
       "      <td>22.94</td>\n",
       "      <td>60.0</td>\n",
       "      <td>0.0</td>\n",
       "      <td>2.64</td>\n",
       "      <td>12.016667</td>\n",
       "    </tr>\n",
       "    <tr>\n",
       "      <th>9998</th>\n",
       "      <td>0</td>\n",
       "      <td>3</td>\n",
       "      <td>1</td>\n",
       "      <td>3</td>\n",
       "      <td>37.0</td>\n",
       "      <td>4.6</td>\n",
       "      <td>26.913987</td>\n",
       "      <td>75.752891</td>\n",
       "      <td>27.053987</td>\n",
       "      <td>75.892891</td>\n",
       "      <td>23.72</td>\n",
       "      <td>31.0</td>\n",
       "      <td>0.0</td>\n",
       "      <td>28.80</td>\n",
       "      <td>51.066667</td>\n",
       "    </tr>\n",
       "    <tr>\n",
       "      <th>9999</th>\n",
       "      <td>2</td>\n",
       "      <td>3</td>\n",
       "      <td>10</td>\n",
       "      <td>0</td>\n",
       "      <td>29.0</td>\n",
       "      <td>4.7</td>\n",
       "      <td>18.994237</td>\n",
       "      <td>72.825553</td>\n",
       "      <td>19.084237</td>\n",
       "      <td>72.915553</td>\n",
       "      <td>28.01</td>\n",
       "      <td>57.0</td>\n",
       "      <td>0.0</td>\n",
       "      <td>17.63</td>\n",
       "      <td>43.800000</td>\n",
       "    </tr>\n",
       "    <tr>\n",
       "      <th>10000</th>\n",
       "      <td>3</td>\n",
       "      <td>2</td>\n",
       "      <td>1</td>\n",
       "      <td>0</td>\n",
       "      <td>29.0</td>\n",
       "      <td>4.7</td>\n",
       "      <td>18.546258</td>\n",
       "      <td>75.902847</td>\n",
       "      <td>18.626216</td>\n",
       "      <td>76.022574</td>\n",
       "      <td>23.00</td>\n",
       "      <td>67.0</td>\n",
       "      <td>0.0</td>\n",
       "      <td>13.40</td>\n",
       "      <td>43.330000</td>\n",
       "    </tr>\n",
       "  </tbody>\n",
       "</table>\n",
       "<p>10001 rows × 15 columns</p>\n",
       "</div>"
      ],
      "text/plain": [
       "       Type_of_order  Type_of_vehicle  weather_description  Traffic_Level  \\\n",
       "0                  3                2                    4              1   \n",
       "1                  3                3                    6              3   \n",
       "2                  1                2                    6              1   \n",
       "3                  0                2                    6              2   \n",
       "4                  3                3                    6              0   \n",
       "...              ...              ...                  ...            ...   \n",
       "9996               2                2                    4              0   \n",
       "9997               2                2                    4              1   \n",
       "9998               0                3                    1              3   \n",
       "9999               2                3                   10              0   \n",
       "10000              3                2                    1              0   \n",
       "\n",
       "       Delivery_person_Age  Delivery_person_Ratings  Restaurant_latitude  \\\n",
       "0                     37.0                      4.9            22.745049   \n",
       "1                     34.0                      4.5            12.913041   \n",
       "2                     23.0                      4.4            12.914264   \n",
       "3                     38.0                      4.7            11.003669   \n",
       "4                     32.0                      4.6            12.972793   \n",
       "...                    ...                      ...                  ...   \n",
       "9996                  32.0                      4.2            22.310237   \n",
       "9997                  36.0                      4.7            17.483216   \n",
       "9998                  37.0                      4.6            26.913987   \n",
       "9999                  29.0                      4.7            18.994237   \n",
       "10000                 29.0                      4.7            18.546258   \n",
       "\n",
       "       Restaurant_longitude  Delivery_location_latitude  \\\n",
       "0                 75.892471                   22.765049   \n",
       "1                 77.683237                   13.043041   \n",
       "2                 77.678400                   12.924264   \n",
       "3                 76.976494                   11.053669   \n",
       "4                 80.249982                   13.012793   \n",
       "...                     ...                         ...   \n",
       "9996              73.158921                   22.400237   \n",
       "9997              78.552111                   17.493216   \n",
       "9998              75.752891                   27.053987   \n",
       "9999              72.825553                   19.084237   \n",
       "10000             75.902847                   18.626216   \n",
       "\n",
       "       Delivery_location_longitude  temperature  humidity  precipitation  \\\n",
       "0                        75.912471        17.11      77.0            0.0   \n",
       "1                        77.813237        19.50      93.0            0.0   \n",
       "2                        77.688400        20.45      91.0            0.0   \n",
       "3                        77.026494        23.86      78.0            0.0   \n",
       "4                        80.289982        26.55      87.0            0.0   \n",
       "...                            ...          ...       ...            ...   \n",
       "9996                     73.248921        23.96      64.0            0.0   \n",
       "9997                     78.562111        22.94      60.0            0.0   \n",
       "9998                     75.892891        23.72      31.0            0.0   \n",
       "9999                     72.915553        28.01      57.0            0.0   \n",
       "10000                    76.022574        23.00      67.0            0.0   \n",
       "\n",
       "       Distance (km)     TARGET  \n",
       "0              13.40  21.666667  \n",
       "1              37.17  85.266667  \n",
       "2               3.34  28.583333  \n",
       "3              10.05  35.183333  \n",
       "4               9.89  43.450000  \n",
       "...              ...        ...  \n",
       "9996           18.92  32.616667  \n",
       "9997            2.64  12.016667  \n",
       "9998           28.80  51.066667  \n",
       "9999           17.63  43.800000  \n",
       "10000          13.40  43.330000  \n",
       "\n",
       "[10001 rows x 15 columns]"
      ]
     },
     "execution_count": 131,
     "metadata": {},
     "output_type": "execute_result"
    }
   ],
   "source": [
    "#to merge both dataframe cat_df and num_df and hold in new dataframe df_new\n",
    "df_new=pd.concat([cat_df,num_df],axis=1)\n",
    "df_new"
   ]
  },
  {
   "cell_type": "code",
   "execution_count": 132,
   "id": "3adcb0e0-e942-4362-b632-5f15d2c86ee8",
   "metadata": {},
   "outputs": [],
   "source": [
    "#select the input and output from df_new dataframe\n",
    "x=df_new.drop([\"TARGET\"],axis=1) #input\n",
    "y=df_new[\"TARGET\"] #output"
   ]
  },
  {
   "cell_type": "code",
   "execution_count": 133,
   "id": "70ce417d-ef9d-4e27-956a-b128dc4a06ec",
   "metadata": {},
   "outputs": [],
   "source": [
    "#train test split 70%-30%\n",
    "x_train,x_test,y_train,y_test=train_test_split(x,y,test_size=0.3,random_state=1)"
   ]
  },
  {
   "cell_type": "code",
   "execution_count": 134,
   "id": "5790c304-2a18-4f7d-8a7d-e39f50190b3f",
   "metadata": {},
   "outputs": [
    {
     "data": {
      "text/plain": [
       "((7000, 14), (3001, 14), (7000,), (3001,))"
      ]
     },
     "execution_count": 134,
     "metadata": {},
     "output_type": "execute_result"
    }
   ],
   "source": [
    "x_train.shape,x_test.shape,y_train.shape,y_test.shape"
   ]
  },
  {
   "cell_type": "code",
   "execution_count": 135,
   "id": "4d7ad847-f1ec-4992-909d-e33be0740f92",
   "metadata": {},
   "outputs": [
    {
     "data": {
      "text/html": [
       "<div>\n",
       "<style scoped>\n",
       "    .dataframe tbody tr th:only-of-type {\n",
       "        vertical-align: middle;\n",
       "    }\n",
       "\n",
       "    .dataframe tbody tr th {\n",
       "        vertical-align: top;\n",
       "    }\n",
       "\n",
       "    .dataframe thead th {\n",
       "        text-align: right;\n",
       "    }\n",
       "</style>\n",
       "<table border=\"1\" class=\"dataframe\">\n",
       "  <thead>\n",
       "    <tr style=\"text-align: right;\">\n",
       "      <th></th>\n",
       "      <th>Type_of_order</th>\n",
       "      <th>Type_of_vehicle</th>\n",
       "      <th>weather_description</th>\n",
       "      <th>Traffic_Level</th>\n",
       "      <th>Delivery_person_Age</th>\n",
       "      <th>Delivery_person_Ratings</th>\n",
       "      <th>Restaurant_latitude</th>\n",
       "      <th>Restaurant_longitude</th>\n",
       "      <th>Delivery_location_latitude</th>\n",
       "      <th>Delivery_location_longitude</th>\n",
       "      <th>temperature</th>\n",
       "      <th>humidity</th>\n",
       "      <th>precipitation</th>\n",
       "      <th>Distance (km)</th>\n",
       "    </tr>\n",
       "  </thead>\n",
       "  <tbody>\n",
       "    <tr>\n",
       "      <th>9689</th>\n",
       "      <td>3</td>\n",
       "      <td>2</td>\n",
       "      <td>5</td>\n",
       "      <td>0</td>\n",
       "      <td>38.0</td>\n",
       "      <td>4.5</td>\n",
       "      <td>0.000000</td>\n",
       "      <td>0.000000</td>\n",
       "      <td>0.050000</td>\n",
       "      <td>0.050000</td>\n",
       "      <td>26.35</td>\n",
       "      <td>82.0</td>\n",
       "      <td>0.29</td>\n",
       "      <td>13.40</td>\n",
       "    </tr>\n",
       "    <tr>\n",
       "      <th>1950</th>\n",
       "      <td>2</td>\n",
       "      <td>2</td>\n",
       "      <td>1</td>\n",
       "      <td>3</td>\n",
       "      <td>30.0</td>\n",
       "      <td>4.3</td>\n",
       "      <td>23.232537</td>\n",
       "      <td>77.429845</td>\n",
       "      <td>23.362537</td>\n",
       "      <td>77.559845</td>\n",
       "      <td>18.45</td>\n",
       "      <td>58.0</td>\n",
       "      <td>0.00</td>\n",
       "      <td>31.39</td>\n",
       "    </tr>\n",
       "    <tr>\n",
       "      <th>2119</th>\n",
       "      <td>3</td>\n",
       "      <td>3</td>\n",
       "      <td>5</td>\n",
       "      <td>0</td>\n",
       "      <td>27.0</td>\n",
       "      <td>5.0</td>\n",
       "      <td>0.000000</td>\n",
       "      <td>0.000000</td>\n",
       "      <td>0.030000</td>\n",
       "      <td>0.030000</td>\n",
       "      <td>26.28</td>\n",
       "      <td>85.0</td>\n",
       "      <td>0.10</td>\n",
       "      <td>13.40</td>\n",
       "    </tr>\n",
       "    <tr>\n",
       "      <th>3906</th>\n",
       "      <td>0</td>\n",
       "      <td>3</td>\n",
       "      <td>4</td>\n",
       "      <td>2</td>\n",
       "      <td>30.0</td>\n",
       "      <td>4.5</td>\n",
       "      <td>22.745049</td>\n",
       "      <td>75.892471</td>\n",
       "      <td>22.795049</td>\n",
       "      <td>75.942471</td>\n",
       "      <td>17.14</td>\n",
       "      <td>72.0</td>\n",
       "      <td>0.00</td>\n",
       "      <td>11.78</td>\n",
       "    </tr>\n",
       "    <tr>\n",
       "      <th>1664</th>\n",
       "      <td>3</td>\n",
       "      <td>1</td>\n",
       "      <td>1</td>\n",
       "      <td>1</td>\n",
       "      <td>24.0</td>\n",
       "      <td>4.8</td>\n",
       "      <td>18.536718</td>\n",
       "      <td>73.830327</td>\n",
       "      <td>18.556718</td>\n",
       "      <td>73.850327</td>\n",
       "      <td>19.25</td>\n",
       "      <td>65.0</td>\n",
       "      <td>0.00</td>\n",
       "      <td>5.55</td>\n",
       "    </tr>\n",
       "  </tbody>\n",
       "</table>\n",
       "</div>"
      ],
      "text/plain": [
       "      Type_of_order  Type_of_vehicle  weather_description  Traffic_Level  \\\n",
       "9689              3                2                    5              0   \n",
       "1950              2                2                    1              3   \n",
       "2119              3                3                    5              0   \n",
       "3906              0                3                    4              2   \n",
       "1664              3                1                    1              1   \n",
       "\n",
       "      Delivery_person_Age  Delivery_person_Ratings  Restaurant_latitude  \\\n",
       "9689                 38.0                      4.5             0.000000   \n",
       "1950                 30.0                      4.3            23.232537   \n",
       "2119                 27.0                      5.0             0.000000   \n",
       "3906                 30.0                      4.5            22.745049   \n",
       "1664                 24.0                      4.8            18.536718   \n",
       "\n",
       "      Restaurant_longitude  Delivery_location_latitude  \\\n",
       "9689              0.000000                    0.050000   \n",
       "1950             77.429845                   23.362537   \n",
       "2119              0.000000                    0.030000   \n",
       "3906             75.892471                   22.795049   \n",
       "1664             73.830327                   18.556718   \n",
       "\n",
       "      Delivery_location_longitude  temperature  humidity  precipitation  \\\n",
       "9689                     0.050000        26.35      82.0           0.29   \n",
       "1950                    77.559845        18.45      58.0           0.00   \n",
       "2119                     0.030000        26.28      85.0           0.10   \n",
       "3906                    75.942471        17.14      72.0           0.00   \n",
       "1664                    73.850327        19.25      65.0           0.00   \n",
       "\n",
       "      Distance (km)  \n",
       "9689          13.40  \n",
       "1950          31.39  \n",
       "2119          13.40  \n",
       "3906          11.78  \n",
       "1664           5.55  "
      ]
     },
     "execution_count": 135,
     "metadata": {},
     "output_type": "execute_result"
    }
   ],
   "source": [
    "x_train.head()"
   ]
  },
  {
   "cell_type": "code",
   "execution_count": 136,
   "id": "3b589c94-877d-4ca0-abaa-52363b0bb963",
   "metadata": {},
   "outputs": [],
   "source": [
    "#Apply Feature scaling on training input and testing input : standarization\n",
    "std=StandardScaler()\n",
    "x_train=std.fit_transform(x_train)\n",
    "x_test=std.transform(x_test)"
   ]
  },
  {
   "cell_type": "code",
   "execution_count": 137,
   "id": "30e7888a-cac8-4a49-a29e-c7c5351e2cd6",
   "metadata": {},
   "outputs": [],
   "source": [
    "#Perform the model with the help of Linear Regression\n",
    "#create the object of LinearRegression class\n",
    "lr=LinearRegression()\n"
   ]
  },
  {
   "cell_type": "code",
   "execution_count": 138,
   "id": "5419d31a-79d6-4b8f-aad1-45dfad228b07",
   "metadata": {},
   "outputs": [
    {
     "data": {
      "text/html": [
       "<style>#sk-container-id-3 {color: black;background-color: white;}#sk-container-id-3 pre{padding: 0;}#sk-container-id-3 div.sk-toggleable {background-color: white;}#sk-container-id-3 label.sk-toggleable__label {cursor: pointer;display: block;width: 100%;margin-bottom: 0;padding: 0.3em;box-sizing: border-box;text-align: center;}#sk-container-id-3 label.sk-toggleable__label-arrow:before {content: \"▸\";float: left;margin-right: 0.25em;color: #696969;}#sk-container-id-3 label.sk-toggleable__label-arrow:hover:before {color: black;}#sk-container-id-3 div.sk-estimator:hover label.sk-toggleable__label-arrow:before {color: black;}#sk-container-id-3 div.sk-toggleable__content {max-height: 0;max-width: 0;overflow: hidden;text-align: left;background-color: #f0f8ff;}#sk-container-id-3 div.sk-toggleable__content pre {margin: 0.2em;color: black;border-radius: 0.25em;background-color: #f0f8ff;}#sk-container-id-3 input.sk-toggleable__control:checked~div.sk-toggleable__content {max-height: 200px;max-width: 100%;overflow: auto;}#sk-container-id-3 input.sk-toggleable__control:checked~label.sk-toggleable__label-arrow:before {content: \"▾\";}#sk-container-id-3 div.sk-estimator input.sk-toggleable__control:checked~label.sk-toggleable__label {background-color: #d4ebff;}#sk-container-id-3 div.sk-label input.sk-toggleable__control:checked~label.sk-toggleable__label {background-color: #d4ebff;}#sk-container-id-3 input.sk-hidden--visually {border: 0;clip: rect(1px 1px 1px 1px);clip: rect(1px, 1px, 1px, 1px);height: 1px;margin: -1px;overflow: hidden;padding: 0;position: absolute;width: 1px;}#sk-container-id-3 div.sk-estimator {font-family: monospace;background-color: #f0f8ff;border: 1px dotted black;border-radius: 0.25em;box-sizing: border-box;margin-bottom: 0.5em;}#sk-container-id-3 div.sk-estimator:hover {background-color: #d4ebff;}#sk-container-id-3 div.sk-parallel-item::after {content: \"\";width: 100%;border-bottom: 1px solid gray;flex-grow: 1;}#sk-container-id-3 div.sk-label:hover label.sk-toggleable__label {background-color: #d4ebff;}#sk-container-id-3 div.sk-serial::before {content: \"\";position: absolute;border-left: 1px solid gray;box-sizing: border-box;top: 0;bottom: 0;left: 50%;z-index: 0;}#sk-container-id-3 div.sk-serial {display: flex;flex-direction: column;align-items: center;background-color: white;padding-right: 0.2em;padding-left: 0.2em;position: relative;}#sk-container-id-3 div.sk-item {position: relative;z-index: 1;}#sk-container-id-3 div.sk-parallel {display: flex;align-items: stretch;justify-content: center;background-color: white;position: relative;}#sk-container-id-3 div.sk-item::before, #sk-container-id-3 div.sk-parallel-item::before {content: \"\";position: absolute;border-left: 1px solid gray;box-sizing: border-box;top: 0;bottom: 0;left: 50%;z-index: -1;}#sk-container-id-3 div.sk-parallel-item {display: flex;flex-direction: column;z-index: 1;position: relative;background-color: white;}#sk-container-id-3 div.sk-parallel-item:first-child::after {align-self: flex-end;width: 50%;}#sk-container-id-3 div.sk-parallel-item:last-child::after {align-self: flex-start;width: 50%;}#sk-container-id-3 div.sk-parallel-item:only-child::after {width: 0;}#sk-container-id-3 div.sk-dashed-wrapped {border: 1px dashed gray;margin: 0 0.4em 0.5em 0.4em;box-sizing: border-box;padding-bottom: 0.4em;background-color: white;}#sk-container-id-3 div.sk-label label {font-family: monospace;font-weight: bold;display: inline-block;line-height: 1.2em;}#sk-container-id-3 div.sk-label-container {text-align: center;}#sk-container-id-3 div.sk-container {/* jupyter's `normalize.less` sets `[hidden] { display: none; }` but bootstrap.min.css set `[hidden] { display: none !important; }` so we also need the `!important` here to be able to override the default hidden behavior on the sphinx rendered scikit-learn.org. See: https://github.com/scikit-learn/scikit-learn/issues/21755 */display: inline-block !important;position: relative;}#sk-container-id-3 div.sk-text-repr-fallback {display: none;}</style><div id=\"sk-container-id-3\" class=\"sk-top-container\"><div class=\"sk-text-repr-fallback\"><pre>LinearRegression()</pre><b>In a Jupyter environment, please rerun this cell to show the HTML representation or trust the notebook. <br />On GitHub, the HTML representation is unable to render, please try loading this page with nbviewer.org.</b></div><div class=\"sk-container\" hidden><div class=\"sk-item\"><div class=\"sk-estimator sk-toggleable\"><input class=\"sk-toggleable__control sk-hidden--visually\" id=\"sk-estimator-id-3\" type=\"checkbox\" checked><label for=\"sk-estimator-id-3\" class=\"sk-toggleable__label sk-toggleable__label-arrow\">LinearRegression</label><div class=\"sk-toggleable__content\"><pre>LinearRegression()</pre></div></div></div></div></div>"
      ],
      "text/plain": [
       "LinearRegression()"
      ]
     },
     "execution_count": 138,
     "metadata": {},
     "output_type": "execute_result"
    }
   ],
   "source": [
    "#Train the model  with 70% data X_train and Y_train\n",
    "lr.fit(x_train,y_train)"
   ]
  },
  {
   "cell_type": "code",
   "execution_count": 139,
   "id": "034390f2-a0bf-434f-8f8e-210e17d1f1e8",
   "metadata": {},
   "outputs": [
    {
     "data": {
      "text/html": [
       "<div>\n",
       "<style scoped>\n",
       "    .dataframe tbody tr th:only-of-type {\n",
       "        vertical-align: middle;\n",
       "    }\n",
       "\n",
       "    .dataframe tbody tr th {\n",
       "        vertical-align: top;\n",
       "    }\n",
       "\n",
       "    .dataframe thead th {\n",
       "        text-align: right;\n",
       "    }\n",
       "</style>\n",
       "<table border=\"1\" class=\"dataframe\">\n",
       "  <thead>\n",
       "    <tr style=\"text-align: right;\">\n",
       "      <th></th>\n",
       "      <th>Input Columns</th>\n",
       "      <th>Slope</th>\n",
       "    </tr>\n",
       "  </thead>\n",
       "  <tbody>\n",
       "    <tr>\n",
       "      <th>0</th>\n",
       "      <td>Type_of_order</td>\n",
       "      <td>-0.331095</td>\n",
       "    </tr>\n",
       "    <tr>\n",
       "      <th>1</th>\n",
       "      <td>Type_of_vehicle</td>\n",
       "      <td>-0.004559</td>\n",
       "    </tr>\n",
       "    <tr>\n",
       "      <th>2</th>\n",
       "      <td>weather_description</td>\n",
       "      <td>1.530582</td>\n",
       "    </tr>\n",
       "    <tr>\n",
       "      <th>3</th>\n",
       "      <td>Traffic_Level</td>\n",
       "      <td>0.782256</td>\n",
       "    </tr>\n",
       "    <tr>\n",
       "      <th>4</th>\n",
       "      <td>Delivery_person_Age</td>\n",
       "      <td>0.048482</td>\n",
       "    </tr>\n",
       "    <tr>\n",
       "      <th>5</th>\n",
       "      <td>Delivery_person_Ratings</td>\n",
       "      <td>0.020930</td>\n",
       "    </tr>\n",
       "    <tr>\n",
       "      <th>6</th>\n",
       "      <td>Restaurant_latitude</td>\n",
       "      <td>-1.600493</td>\n",
       "    </tr>\n",
       "    <tr>\n",
       "      <th>7</th>\n",
       "      <td>Restaurant_longitude</td>\n",
       "      <td>-0.059194</td>\n",
       "    </tr>\n",
       "    <tr>\n",
       "      <th>8</th>\n",
       "      <td>Delivery_location_latitude</td>\n",
       "      <td>1.820679</td>\n",
       "    </tr>\n",
       "    <tr>\n",
       "      <th>9</th>\n",
       "      <td>Delivery_location_longitude</td>\n",
       "      <td>-1.669693</td>\n",
       "    </tr>\n",
       "    <tr>\n",
       "      <th>10</th>\n",
       "      <td>temperature</td>\n",
       "      <td>0.930452</td>\n",
       "    </tr>\n",
       "    <tr>\n",
       "      <th>11</th>\n",
       "      <td>humidity</td>\n",
       "      <td>1.408985</td>\n",
       "    </tr>\n",
       "    <tr>\n",
       "      <th>12</th>\n",
       "      <td>precipitation</td>\n",
       "      <td>-0.055306</td>\n",
       "    </tr>\n",
       "    <tr>\n",
       "      <th>13</th>\n",
       "      <td>Distance (km)</td>\n",
       "      <td>13.947786</td>\n",
       "    </tr>\n",
       "  </tbody>\n",
       "</table>\n",
       "</div>"
      ],
      "text/plain": [
       "                  Input Columns      Slope\n",
       "0                 Type_of_order  -0.331095\n",
       "1               Type_of_vehicle  -0.004559\n",
       "2           weather_description   1.530582\n",
       "3                 Traffic_Level   0.782256\n",
       "4           Delivery_person_Age   0.048482\n",
       "5       Delivery_person_Ratings   0.020930\n",
       "6           Restaurant_latitude  -1.600493\n",
       "7          Restaurant_longitude  -0.059194\n",
       "8    Delivery_location_latitude   1.820679\n",
       "9   Delivery_location_longitude  -1.669693\n",
       "10                  temperature   0.930452\n",
       "11                     humidity   1.408985\n",
       "12                precipitation  -0.055306\n",
       "13                Distance (km)  13.947786"
      ]
     },
     "execution_count": 139,
     "metadata": {},
     "output_type": "execute_result"
    }
   ],
   "source": [
    "dict={'Input Columns':x.columns,'Slope':lr.coef_}\n",
    "df1=pd.DataFrame(dict)\n",
    "df1"
   ]
  },
  {
   "cell_type": "code",
   "execution_count": null,
   "id": "abff990f-51be-47eb-96b9-1cdb867338bd",
   "metadata": {},
   "outputs": [],
   "source": []
  },
  {
   "cell_type": "code",
   "execution_count": 140,
   "id": "9b39acd3-0bad-47d1-89a2-4b76908810a6",
   "metadata": {},
   "outputs": [
    {
     "name": "stdout",
     "output_type": "stream",
     "text": [
      "training score :  0.7779500106145829\n"
     ]
    }
   ],
   "source": [
    "#Check model is underfit or overfit\n",
    "#first find score of training , use score()\n",
    "train_score=lr.score(x_train,y_train)\n",
    "print(\"training score : \",train_score)"
   ]
  },
  {
   "cell_type": "code",
   "execution_count": 141,
   "id": "78bc0fa2-3bbe-4381-bcbd-2dbde54f8774",
   "metadata": {},
   "outputs": [
    {
     "name": "stdout",
     "output_type": "stream",
     "text": [
      "testing score :  0.7863854041868142\n"
     ]
    }
   ],
   "source": [
    "#first find score of testing , use score() inbuilt method of LinearRegression class\n",
    "test_score=lr.score(x_test,y_test)\n",
    "print(\"testing score : \",test_score)"
   ]
  },
  {
   "cell_type": "code",
   "execution_count": 142,
   "id": "9f552b63-d800-4895-9ec9-cb3d5067367a",
   "metadata": {},
   "outputs": [],
   "source": [
    "#here training score < testing score Therfore the model is underfit ,\n",
    "#To reduce the underfit of model , incresae the degree of Input features means use Polynomial liner regression"
   ]
  },
  {
   "cell_type": "code",
   "execution_count": 143,
   "id": "0306f780-c90e-4dec-aa44-a394a83c1c7f",
   "metadata": {},
   "outputs": [
    {
     "data": {
      "text/plain": [
       "array([42.09321184, 54.94728067, 39.14519652, ..., 36.55977999,\n",
       "       36.93360075, 48.54683686])"
      ]
     },
     "execution_count": 143,
     "metadata": {},
     "output_type": "execute_result"
    }
   ],
   "source": [
    "# to Test the model with 30% input X_test\n",
    "y_pred=lr.predict(x_test)\n",
    "y_pred"
   ]
  },
  {
   "cell_type": "code",
   "execution_count": 144,
   "id": "53fcbdb7-7317-430f-82a9-3b0aa0d43f60",
   "metadata": {},
   "outputs": [
    {
     "data": {
      "text/html": [
       "<div>\n",
       "<style scoped>\n",
       "    .dataframe tbody tr th:only-of-type {\n",
       "        vertical-align: middle;\n",
       "    }\n",
       "\n",
       "    .dataframe tbody tr th {\n",
       "        vertical-align: top;\n",
       "    }\n",
       "\n",
       "    .dataframe thead th {\n",
       "        text-align: right;\n",
       "    }\n",
       "</style>\n",
       "<table border=\"1\" class=\"dataframe\">\n",
       "  <thead>\n",
       "    <tr style=\"text-align: right;\">\n",
       "      <th></th>\n",
       "      <th>Actual Output</th>\n",
       "      <th>Predicted Output</th>\n",
       "    </tr>\n",
       "  </thead>\n",
       "  <tbody>\n",
       "    <tr>\n",
       "      <th>9954</th>\n",
       "      <td>41.666667</td>\n",
       "      <td>42.093212</td>\n",
       "    </tr>\n",
       "    <tr>\n",
       "      <th>3851</th>\n",
       "      <td>71.100000</td>\n",
       "      <td>54.947281</td>\n",
       "    </tr>\n",
       "    <tr>\n",
       "      <th>4963</th>\n",
       "      <td>35.416667</td>\n",
       "      <td>39.145197</td>\n",
       "    </tr>\n",
       "    <tr>\n",
       "      <th>7918</th>\n",
       "      <td>41.516667</td>\n",
       "      <td>54.842494</td>\n",
       "    </tr>\n",
       "    <tr>\n",
       "      <th>9382</th>\n",
       "      <td>54.800000</td>\n",
       "      <td>58.091922</td>\n",
       "    </tr>\n",
       "    <tr>\n",
       "      <th>...</th>\n",
       "      <td>...</td>\n",
       "      <td>...</td>\n",
       "    </tr>\n",
       "    <tr>\n",
       "      <th>6275</th>\n",
       "      <td>29.216667</td>\n",
       "      <td>39.843004</td>\n",
       "    </tr>\n",
       "    <tr>\n",
       "      <th>6568</th>\n",
       "      <td>16.200000</td>\n",
       "      <td>17.438423</td>\n",
       "    </tr>\n",
       "    <tr>\n",
       "      <th>3755</th>\n",
       "      <td>35.483333</td>\n",
       "      <td>36.559780</td>\n",
       "    </tr>\n",
       "    <tr>\n",
       "      <th>5950</th>\n",
       "      <td>40.066667</td>\n",
       "      <td>36.933601</td>\n",
       "    </tr>\n",
       "    <tr>\n",
       "      <th>2228</th>\n",
       "      <td>54.900000</td>\n",
       "      <td>48.546837</td>\n",
       "    </tr>\n",
       "  </tbody>\n",
       "</table>\n",
       "<p>3001 rows × 2 columns</p>\n",
       "</div>"
      ],
      "text/plain": [
       "      Actual Output  Predicted Output\n",
       "9954      41.666667         42.093212\n",
       "3851      71.100000         54.947281\n",
       "4963      35.416667         39.145197\n",
       "7918      41.516667         54.842494\n",
       "9382      54.800000         58.091922\n",
       "...             ...               ...\n",
       "6275      29.216667         39.843004\n",
       "6568      16.200000         17.438423\n",
       "3755      35.483333         36.559780\n",
       "5950      40.066667         36.933601\n",
       "2228      54.900000         48.546837\n",
       "\n",
       "[3001 rows x 2 columns]"
      ]
     },
     "execution_count": 144,
     "metadata": {},
     "output_type": "execute_result"
    }
   ],
   "source": [
    "# checking the model  predicted output  and Actual Output\n",
    "dict={'Actual Output':y_test,\"Predicted Output\": y_pred}\n",
    "df1=pd.DataFrame(dict)\n",
    "df1"
   ]
  },
  {
   "cell_type": "code",
   "execution_count": 145,
   "id": "2fd4f864-b591-430a-9446-fbc97d3cf003",
   "metadata": {},
   "outputs": [],
   "source": [
    "# Rss mean residual  sum of squared error\n",
    "# Rss mean residual  sum of squared error"
   ]
  },
  {
   "cell_type": "code",
   "execution_count": 146,
   "id": "fcbdae4c-969a-43c8-b97b-21370971a5fe",
   "metadata": {},
   "outputs": [],
   "source": [
    "# implementing the Polynomial features  t to  the model\n",
    "# $ means degree =2\n",
    "# create the object of Polynomial features\n",
    "ploy=PolynomialFeatures(2)# 2 means degree of input\n"
   ]
  },
  {
   "cell_type": "code",
   "execution_count": 147,
   "id": "52870351-890b-4e87-bf0b-9e33df5052bc",
   "metadata": {},
   "outputs": [],
   "source": [
    "x_ploy=ploy.fit_transform(x)\n"
   ]
  },
  {
   "cell_type": "code",
   "execution_count": 148,
   "id": "90fde519-2e35-4c2a-9aeb-c11a3d27fd70",
   "metadata": {},
   "outputs": [
    {
     "data": {
      "text/plain": [
       "(numpy.ndarray, pandas.core.frame.DataFrame)"
      ]
     },
     "execution_count": 148,
     "metadata": {},
     "output_type": "execute_result"
    }
   ],
   "source": [
    "type(x_ploy),type(x)"
   ]
  },
  {
   "cell_type": "code",
   "execution_count": 149,
   "id": "e90a7138-9d1e-4888-8176-9074be13e0c4",
   "metadata": {},
   "outputs": [
    {
     "data": {
      "text/plain": [
       "(10001, 10001)"
      ]
     },
     "execution_count": 149,
     "metadata": {},
     "output_type": "execute_result"
    }
   ],
   "source": [
    "x_ploy.shape[0],x.shape[0]"
   ]
  },
  {
   "cell_type": "code",
   "execution_count": 150,
   "id": "2edfb5ca-6d6e-42cc-84c4-ae0113e3033f",
   "metadata": {},
   "outputs": [],
   "source": [
    "# we train_test_split the new x_poly\n",
    "x_train,x_test,y_train,y_test=train_test_split(x_ploy,y,test_size=0.3,random_state=1)"
   ]
  },
  {
   "cell_type": "code",
   "execution_count": 151,
   "id": "a02e77b4-b784-41d4-aedc-a67e97b61988",
   "metadata": {},
   "outputs": [
    {
     "data": {
      "text/plain": [
       "((7000, 120), (3001, 120), (7000,), (3001,))"
      ]
     },
     "execution_count": 151,
     "metadata": {},
     "output_type": "execute_result"
    }
   ],
   "source": [
    "x_train.shape,x_test.shape,y_train.shape,y_test.shape"
   ]
  },
  {
   "cell_type": "code",
   "execution_count": 152,
   "id": "71df0900-a909-49a8-8bd9-9010393d8813",
   "metadata": {},
   "outputs": [
    {
     "data": {
      "text/html": [
       "<style>#sk-container-id-4 {color: black;background-color: white;}#sk-container-id-4 pre{padding: 0;}#sk-container-id-4 div.sk-toggleable {background-color: white;}#sk-container-id-4 label.sk-toggleable__label {cursor: pointer;display: block;width: 100%;margin-bottom: 0;padding: 0.3em;box-sizing: border-box;text-align: center;}#sk-container-id-4 label.sk-toggleable__label-arrow:before {content: \"▸\";float: left;margin-right: 0.25em;color: #696969;}#sk-container-id-4 label.sk-toggleable__label-arrow:hover:before {color: black;}#sk-container-id-4 div.sk-estimator:hover label.sk-toggleable__label-arrow:before {color: black;}#sk-container-id-4 div.sk-toggleable__content {max-height: 0;max-width: 0;overflow: hidden;text-align: left;background-color: #f0f8ff;}#sk-container-id-4 div.sk-toggleable__content pre {margin: 0.2em;color: black;border-radius: 0.25em;background-color: #f0f8ff;}#sk-container-id-4 input.sk-toggleable__control:checked~div.sk-toggleable__content {max-height: 200px;max-width: 100%;overflow: auto;}#sk-container-id-4 input.sk-toggleable__control:checked~label.sk-toggleable__label-arrow:before {content: \"▾\";}#sk-container-id-4 div.sk-estimator input.sk-toggleable__control:checked~label.sk-toggleable__label {background-color: #d4ebff;}#sk-container-id-4 div.sk-label input.sk-toggleable__control:checked~label.sk-toggleable__label {background-color: #d4ebff;}#sk-container-id-4 input.sk-hidden--visually {border: 0;clip: rect(1px 1px 1px 1px);clip: rect(1px, 1px, 1px, 1px);height: 1px;margin: -1px;overflow: hidden;padding: 0;position: absolute;width: 1px;}#sk-container-id-4 div.sk-estimator {font-family: monospace;background-color: #f0f8ff;border: 1px dotted black;border-radius: 0.25em;box-sizing: border-box;margin-bottom: 0.5em;}#sk-container-id-4 div.sk-estimator:hover {background-color: #d4ebff;}#sk-container-id-4 div.sk-parallel-item::after {content: \"\";width: 100%;border-bottom: 1px solid gray;flex-grow: 1;}#sk-container-id-4 div.sk-label:hover label.sk-toggleable__label {background-color: #d4ebff;}#sk-container-id-4 div.sk-serial::before {content: \"\";position: absolute;border-left: 1px solid gray;box-sizing: border-box;top: 0;bottom: 0;left: 50%;z-index: 0;}#sk-container-id-4 div.sk-serial {display: flex;flex-direction: column;align-items: center;background-color: white;padding-right: 0.2em;padding-left: 0.2em;position: relative;}#sk-container-id-4 div.sk-item {position: relative;z-index: 1;}#sk-container-id-4 div.sk-parallel {display: flex;align-items: stretch;justify-content: center;background-color: white;position: relative;}#sk-container-id-4 div.sk-item::before, #sk-container-id-4 div.sk-parallel-item::before {content: \"\";position: absolute;border-left: 1px solid gray;box-sizing: border-box;top: 0;bottom: 0;left: 50%;z-index: -1;}#sk-container-id-4 div.sk-parallel-item {display: flex;flex-direction: column;z-index: 1;position: relative;background-color: white;}#sk-container-id-4 div.sk-parallel-item:first-child::after {align-self: flex-end;width: 50%;}#sk-container-id-4 div.sk-parallel-item:last-child::after {align-self: flex-start;width: 50%;}#sk-container-id-4 div.sk-parallel-item:only-child::after {width: 0;}#sk-container-id-4 div.sk-dashed-wrapped {border: 1px dashed gray;margin: 0 0.4em 0.5em 0.4em;box-sizing: border-box;padding-bottom: 0.4em;background-color: white;}#sk-container-id-4 div.sk-label label {font-family: monospace;font-weight: bold;display: inline-block;line-height: 1.2em;}#sk-container-id-4 div.sk-label-container {text-align: center;}#sk-container-id-4 div.sk-container {/* jupyter's `normalize.less` sets `[hidden] { display: none; }` but bootstrap.min.css set `[hidden] { display: none !important; }` so we also need the `!important` here to be able to override the default hidden behavior on the sphinx rendered scikit-learn.org. See: https://github.com/scikit-learn/scikit-learn/issues/21755 */display: inline-block !important;position: relative;}#sk-container-id-4 div.sk-text-repr-fallback {display: none;}</style><div id=\"sk-container-id-4\" class=\"sk-top-container\"><div class=\"sk-text-repr-fallback\"><pre>LinearRegression()</pre><b>In a Jupyter environment, please rerun this cell to show the HTML representation or trust the notebook. <br />On GitHub, the HTML representation is unable to render, please try loading this page with nbviewer.org.</b></div><div class=\"sk-container\" hidden><div class=\"sk-item\"><div class=\"sk-estimator sk-toggleable\"><input class=\"sk-toggleable__control sk-hidden--visually\" id=\"sk-estimator-id-4\" type=\"checkbox\" checked><label for=\"sk-estimator-id-4\" class=\"sk-toggleable__label sk-toggleable__label-arrow\">LinearRegression</label><div class=\"sk-toggleable__content\"><pre>LinearRegression()</pre></div></div></div></div></div>"
      ],
      "text/plain": [
       "LinearRegression()"
      ]
     },
     "execution_count": 152,
     "metadata": {},
     "output_type": "execute_result"
    }
   ],
   "source": [
    "#Again perform the model with linear regression after increase the degree of input features\n",
    "lr1=LinearRegression()\n",
    "\n",
    "#train the model\n",
    "lr1.fit(x_train,y_train)"
   ]
  },
  {
   "cell_type": "code",
   "execution_count": 153,
   "id": "3579e3fd-644c-4ab7-b47d-ac88c8196cad",
   "metadata": {},
   "outputs": [
    {
     "data": {
      "text/plain": [
       "array([41.47883469, 63.50559051, 37.78014116, ..., 44.94940912,\n",
       "       40.79973332, 48.57267394])"
      ]
     },
     "execution_count": 153,
     "metadata": {},
     "output_type": "execute_result"
    }
   ],
   "source": [
    "#test the model \n",
    "y_pred1=lr1.predict(x_test)\n",
    "y_pred1"
   ]
  },
  {
   "cell_type": "code",
   "execution_count": 154,
   "id": "dae22afd-9531-4c41-ad2b-9ecdbecb7a1a",
   "metadata": {},
   "outputs": [
    {
     "data": {
      "text/html": [
       "<div>\n",
       "<style scoped>\n",
       "    .dataframe tbody tr th:only-of-type {\n",
       "        vertical-align: middle;\n",
       "    }\n",
       "\n",
       "    .dataframe tbody tr th {\n",
       "        vertical-align: top;\n",
       "    }\n",
       "\n",
       "    .dataframe thead th {\n",
       "        text-align: right;\n",
       "    }\n",
       "</style>\n",
       "<table border=\"1\" class=\"dataframe\">\n",
       "  <thead>\n",
       "    <tr style=\"text-align: right;\">\n",
       "      <th></th>\n",
       "      <th>predict</th>\n",
       "      <th>actual</th>\n",
       "    </tr>\n",
       "  </thead>\n",
       "  <tbody>\n",
       "    <tr>\n",
       "      <th>9954</th>\n",
       "      <td>41.478835</td>\n",
       "      <td>41.666667</td>\n",
       "    </tr>\n",
       "    <tr>\n",
       "      <th>3851</th>\n",
       "      <td>63.505591</td>\n",
       "      <td>71.100000</td>\n",
       "    </tr>\n",
       "    <tr>\n",
       "      <th>4963</th>\n",
       "      <td>37.780141</td>\n",
       "      <td>35.416667</td>\n",
       "    </tr>\n",
       "    <tr>\n",
       "      <th>7918</th>\n",
       "      <td>43.520514</td>\n",
       "      <td>41.516667</td>\n",
       "    </tr>\n",
       "    <tr>\n",
       "      <th>9382</th>\n",
       "      <td>54.884280</td>\n",
       "      <td>54.800000</td>\n",
       "    </tr>\n",
       "    <tr>\n",
       "      <th>...</th>\n",
       "      <td>...</td>\n",
       "      <td>...</td>\n",
       "    </tr>\n",
       "    <tr>\n",
       "      <th>6275</th>\n",
       "      <td>37.127211</td>\n",
       "      <td>29.216667</td>\n",
       "    </tr>\n",
       "    <tr>\n",
       "      <th>6568</th>\n",
       "      <td>17.022139</td>\n",
       "      <td>16.200000</td>\n",
       "    </tr>\n",
       "    <tr>\n",
       "      <th>3755</th>\n",
       "      <td>44.949409</td>\n",
       "      <td>35.483333</td>\n",
       "    </tr>\n",
       "    <tr>\n",
       "      <th>5950</th>\n",
       "      <td>40.799733</td>\n",
       "      <td>40.066667</td>\n",
       "    </tr>\n",
       "    <tr>\n",
       "      <th>2228</th>\n",
       "      <td>48.572674</td>\n",
       "      <td>54.900000</td>\n",
       "    </tr>\n",
       "  </tbody>\n",
       "</table>\n",
       "<p>3001 rows × 2 columns</p>\n",
       "</div>"
      ],
      "text/plain": [
       "        predict     actual\n",
       "9954  41.478835  41.666667\n",
       "3851  63.505591  71.100000\n",
       "4963  37.780141  35.416667\n",
       "7918  43.520514  41.516667\n",
       "9382  54.884280  54.800000\n",
       "...         ...        ...\n",
       "6275  37.127211  29.216667\n",
       "6568  17.022139  16.200000\n",
       "3755  44.949409  35.483333\n",
       "5950  40.799733  40.066667\n",
       "2228  48.572674  54.900000\n",
       "\n",
       "[3001 rows x 2 columns]"
      ]
     },
     "execution_count": 154,
     "metadata": {},
     "output_type": "execute_result"
    }
   ],
   "source": [
    "dict={\"predict\":y_pred1,\"actual\":y_test}\n",
    "ac=pd.DataFrame(dict)\n",
    "ac"
   ]
  },
  {
   "cell_type": "code",
   "execution_count": 155,
   "id": "f55eeb46-3b5b-492e-9a34-5ca14398c038",
   "metadata": {},
   "outputs": [
    {
     "data": {
      "text/plain": [
       "37.13234124381472"
      ]
     },
     "execution_count": 155,
     "metadata": {},
     "output_type": "execute_result"
    }
   ],
   "source": [
    "# checking the mean squared error in our model \n",
    "#Evaluation of model\n",
    "mseee=mean_squared_error(y_test,y_pred1)\n",
    "mseee"
   ]
  },
  {
   "cell_type": "code",
   "execution_count": 156,
   "id": "495e5cc4-b397-4e43-946d-65df4ca53fd4",
   "metadata": {},
   "outputs": [
    {
     "data": {
      "text/plain": [
       "0.851800181762079"
      ]
     },
     "execution_count": 156,
     "metadata": {},
     "output_type": "execute_result"
    }
   ],
   "source": [
    "#check test score\n",
    "test_score1=r2_score(y_test,y_pred1)\n",
    "test_score1"
   ]
  },
  {
   "cell_type": "code",
   "execution_count": 157,
   "id": "8f2df471-1967-4952-acca-d627f5f341f1",
   "metadata": {},
   "outputs": [
    {
     "name": "stdout",
     "output_type": "stream",
     "text": [
      "training score 0.8603771939845634\n",
      "testing score 0.851800181762079\n"
     ]
    }
   ],
   "source": [
    "# checking the score of model after the using  Polynomial features\n",
    "score=lr1.score(x_train,y_train)\n",
    "print(\"training score\",score)\n",
    "score11=lr1.score(x_test,y_test)\n",
    "print(\"testing score\",score11)"
   ]
  },
  {
   "cell_type": "code",
   "execution_count": 158,
   "id": "5758950a-7048-4919-bd63-e6bb86d2e4a6",
   "metadata": {},
   "outputs": [
    {
     "data": {
      "text/plain": [
       "0.851800181762079"
      ]
     },
     "execution_count": 158,
     "metadata": {},
     "output_type": "execute_result"
    }
   ],
   "source": [
    "#Here model is no underfit and no overfit\n",
    "#final score 0.85 means 85%\n",
    "\n",
    "#find the r2_score \n",
    "r2_score(y_test,y_pred1)\n",
    "    "
   ]
  },
  {
   "cell_type": "code",
   "execution_count": null,
   "id": "2eac50c4-dc76-4d1a-adb9-92db674bff7f",
   "metadata": {},
   "outputs": [],
   "source": []
  },
  {
   "cell_type": "code",
   "execution_count": 159,
   "id": "56eb90b1-d19f-457b-92a7-d263ee452de6",
   "metadata": {},
   "outputs": [],
   "source": [
    "#mse\n",
    "#mae =\\Y-Y_p\\+\n",
    "#rss"
   ]
  }
 ],
 "metadata": {
  "kernelspec": {
   "display_name": "Python 3 (ipykernel)",
   "language": "python",
   "name": "python3"
  },
  "language_info": {
   "codemirror_mode": {
    "name": "ipython",
    "version": 3
   },
   "file_extension": ".py",
   "mimetype": "text/x-python",
   "name": "python",
   "nbconvert_exporter": "python",
   "pygments_lexer": "ipython3",
   "version": "3.11.7"
  }
 },
 "nbformat": 4,
 "nbformat_minor": 5
}
